{
 "cells": [
  {
   "cell_type": "markdown",
   "metadata": {},
   "source": [
    "# 2-17 review"
   ]
  },
  {
   "cell_type": "markdown",
   "metadata": {},
   "source": [
    "1-1 List"
   ]
  },
  {
   "cell_type": "code",
   "execution_count": null,
   "metadata": {},
   "outputs": [],
   "source": [
    "li = [\"a\", \"b\", \"mpilgrim\", \"z\", \"example\"]\n",
    "li[1:3]              #左边包含 右边不包含\n",
    "li[:3]\n",
    "li[3:]               #左右为空分别表示头 尾\n",
    "li[::-1]             #倒叙   start：stop：step\n",
    "li.append(\"new\")     #append 添加单个元素\n",
    "li.insert(2, \"new\")  #insert 指定地方插入\n",
    "li.extend([\"two\", \"elements\"])  #extend 传入一个list，合并\n",
    "li.extend(['d', 'e', 'f'])  #['a', 'b', 'c', 'd', 'e', 'f']\n",
    "li.append(['d', 'e', 'f'])  #['a', 'b', 'c', ['d', 'e', 'f']]\n",
    "len(li)\n",
    "li.index(\"example\")         #获取元素的 index\n",
    "\"c\" in li                   #返回boolean\n",
    "li.remove(\"z\")              #移除元素\n",
    "li.pop()                    #移除最顶端元素，并返回顶端元素\n",
    "li = li + ['example', 'new']#相当于extend\n",
    "li = [1, 2] * 3             #重复三次\n"
   ]
  },
  {
   "cell_type": "markdown",
   "metadata": {},
   "source": [
    "1-2 Dictionaries"
   ]
  },
  {
   "cell_type": "code",
   "execution_count": null,
   "metadata": {},
   "outputs": [],
   "source": [
    "d = {42: 'douglas', \"database\":\"master\"，'key': 'other value', 'Key': 'third value'}  #大小写是区分的\n",
    "d[42]             #已经有了的，就是查询\n",
    "d[\"uid\"] = \"sa\"         #没有就是添加\n",
    "d[\"database\"] = \"value\" #已经有了的 修改值\n",
    "del d[42]               #根据key删除\n",
    "d.clear()             "
   ]
  },
  {
   "cell_type": "markdown",
   "metadata": {},
   "source": [
    "1-3 Tuples"
   ]
  },
  {
   "cell_type": "code",
   "execution_count": null,
   "metadata": {},
   "outputs": [],
   "source": [
    "t = (\"a\", \"b\", \"mpilgrim\", \"z\", \"example\")  #no add，remove，append，extend，  \n",
    "\"z\" in t      # only  in   \n",
    "#Tuples are faster than lists.\n",
    "#If you are defining a constant set of values use a tuple instead of a list."
   ]
  },
  {
   "cell_type": "markdown",
   "metadata": {},
   "source": [
    "1-4 Variables"
   ]
  },
  {
   "cell_type": "code",
   "execution_count": null,
   "metadata": {},
   "outputs": [],
   "source": [
    "v = ('a', 'b', 'e')    #Assigning multiple values at once\n",
    "(x, y, z) = v          #x='a'  y='b'  z='e'\n",
    "(MONDAY, TUESDAY, WEDNESDAY, THURSDAY, FRIDAY, SATURDAY, SUNDAY) = range(7)    #range(7) = range(0,7)\n",
    "#MONDAY=0, TUESDAY=1,....\n",
    "\"%s = %s\" % (x, y)     #%s占位，%后面跟tuple传参数"
   ]
  },
  {
   "cell_type": "code",
   "execution_count": null,
   "metadata": {},
   "outputs": [],
   "source": [
    "uid = \"sa\"\n",
    "pwd = \"secret\"\n",
    "print(pwd + \" is not a good password for \" + uid)\n",
    "print(\"%s is not a good password for %s\" % (pwd, uid))\n",
    "userCount = 6\n",
    "print(\"Users connected: %d\" % (userCount, ) )"
   ]
  },
  {
   "cell_type": "code",
   "execution_count": 1,
   "metadata": {},
   "outputs": [
    {
     "name": "stdout",
     "output_type": "stream",
     "text": [
      "Today's stock price: 50.465500\n",
      "Today's stock price: 50.47\n",
      "Today's stock price: +50.47\n",
      "Today's stock price: +1.50\n"
     ]
    }
   ],
   "source": [
    "p=50.465500\n",
    "print(\"Today's stock price: %f\" % p )\n",
    "print(\"Today's stock price: %.2f\" % p )\n",
    "print(\"Today's stock price: %+.2f\" % p )\n",
    "print(\"Today's stock price: %+.2f\" % 1.5 )  # %后占位， .nf表示n位小数，前面可以加正负   省去的位置四舍五入"
   ]
  },
  {
   "cell_type": "markdown",
   "metadata": {},
   "source": [
    "1-5 MapLists"
   ]
  },
  {
   "cell_type": "code",
   "execution_count": null,
   "metadata": {},
   "outputs": [],
   "source": [
    "li = [1, 9, 8, 4]\n",
    "[elem*2 for elem in li]             #把li里面的所有元素 x2，但是li并没有变，因为没有进行赋值\n",
    "li = [elem*2 for elem in li]        #现在li变了"
   ]
  },
  {
   "cell_type": "code",
   "execution_count": null,
   "metadata": {},
   "outputs": [],
   "source": [
    "params = {\"server\":\"mpilgrim\", \"database\":\"master\", \"uid\":\"sa\", \"pwd\":\"secret\"}\n",
    "params.keys()                                   #获取所有key值   输出dict_keys(['server', 'database', 'uid', 'pwd'])\n",
    "params.values()                                 #获取所有value值\n",
    "params.items()                                  #获取所有键值对 形如('server', 'mpilgrim'), ('database', 'master')\n",
    "[k for k, v in params.items()]                  #获取key 输出['server', 'database', 'uid', 'pwd']\n",
    "[v for k, v in params.items()]                  # items()里面是成对出现，需要k，v两个参数来装，然后取其中的k或者v\n",
    "[\"%s=%s\" % (k, v) for k, v in params.items()]   #这三个都是把 params.items()当一个list，输出一个list\n",
    "s_add= \";\".join([\"%s=%s\" % (k, v) for k, v in params.items()])    #用;把list里面的元素隔开\n",
    "                                                #'server=mpilgrim;uid=sa;database=master;pwd=secret'"
   ]
  },
  {
   "cell_type": "code",
   "execution_count": null,
   "metadata": {},
   "outputs": [],
   "source": [
    "s='server=mpilgrim;uid=sa;database=master;pwd=secret'\n",
    "s.split(\";\")                                    #在；出分开\n",
    "s.split(\";\", 2)                                 #截止到第二个；之前的，都分割。 （分割0，1两个；）\n",
    "                                                #['server=mpilgrim', 'uid=sa', 'database=master;pwd=secret']\n",
    "s = \"this   is\\na\\ttest\"\n",
    "print(s)                   # this   is         \\n 换行，\\t 制表符\n",
    "                           # a  \t   test\n",
    "s.split()                  #['this', 'is', 'a', 'test']\n",
    "\" \".join(s.split())        #'this is a test'"
   ]
  },
  {
   "cell_type": "markdown",
   "metadata": {},
   "source": [
    "2-1 Bulid-in Functions"
   ]
  },
  {
   "cell_type": "code",
   "execution_count": null,
   "metadata": {},
   "outputs": [],
   "source": [
    "li=[]\n",
    "type(li)   #输出li的类型\n",
    "dir(li)    #输出li的所有方法"
   ]
  },
  {
   "cell_type": "markdown",
   "metadata": {},
   "source": [
    "2-2 Filtering Lists"
   ]
  },
  {
   "cell_type": "code",
   "execution_count": null,
   "metadata": {},
   "outputs": [],
   "source": [
    "li = [\"a\", \"mpilgrim\", \"foo\", \"b\", \"c\", \"b\", \"d\", \"d\"]\n",
    "[elem for elem in li if len(elem) > 1]          #输出长度大于1的\n",
    "[elem for elem in li if li.count(elem) == 2]    #输出出现次数为2的\n",
    "for i in range(len(li)):\n",
    "    print(li[i])            #其实还是输出li里的所有元素，i在li的长度范围内，作为index，访问li. range(a,b),包括a，不包括b"
   ]
  },
  {
   "cell_type": "markdown",
   "metadata": {},
   "source": [
    "2-3 Peculiar Nature of and and or"
   ]
  },
  {
   "cell_type": "code",
   "execution_count": null,
   "metadata": {},
   "outputs": [],
   "source": [
    "#0, '', [], (), {}, and None   这些为false，其他都是true\n",
    "'c' and 'd'  #输出‘d’     都为真，输出最后一个\n",
    "'e' and ''   #输出‘’      真and假，返回假\n",
    "[] and 'b' and 0  #输出‘’  都为假，输出第一个\n",
    "'b' or 'a'   #输出‘b’     or，一旦一个真，直接就返回这个真，不会判断后面的\n",
    "'' or 'b'    #输出‘b’     假or真，输出真 \n",
    "'' or [] or {} #输出{}    都为假，输出最后一个\n",
    "# and 有假就假，都真最后一个，都假第一个（需要判断所有真，才输出真，所以，判断完，最后一个真输出，但一个为假，直接输出假）\n",
    "# or  有真就真，都假最后一个，都真第一个（需要判断所有假，才输出假，所以，判断完，最后一个假输出，但一个为真，直接输出真）"
   ]
  },
  {
   "cell_type": "code",
   "execution_count": null,
   "metadata": {},
   "outputs": [],
   "source": [
    "a = \"first\"\n",
    "b = \"second\"\n",
    "1 and a or b   #输出'first'    1 and a 输出第二个，a。   a or b 输出第一个,a;\n",
    "0 and a or b   #输出'second'   0 and a 输出假，0.  0 or b 输出真"
   ]
  },
  {
   "cell_type": "code",
   "execution_count": null,
   "metadata": {},
   "outputs": [],
   "source": [
    "a = \"\"\n",
    "b = \"second\"\n",
    "1 and a or b   #输出'second'  1 and a 输出假，a。  a or b 输出真 b"
   ]
  },
  {
   "cell_type": "markdown",
   "metadata": {},
   "source": [
    "2-4 lambda Functions"
   ]
  },
  {
   "cell_type": "code",
   "execution_count": null,
   "metadata": {},
   "outputs": [],
   "source": [
    "def my_f(x):\n",
    "    return x*2   #定义函数\n",
    "x = 5\n",
    "g = lambda x: x*2 \n",
    "(lambda x: x*2)(3)  "
   ]
  },
  {
   "cell_type": "markdown",
   "metadata": {},
   "source": [
    "3-1 file"
   ]
  },
  {
   "cell_type": "code",
   "execution_count": null,
   "metadata": {},
   "outputs": [],
   "source": [
    "fsock = open(\"/notthere\", \"r\")"
   ]
  },
  {
   "cell_type": "code",
   "execution_count": null,
   "metadata": {},
   "outputs": [],
   "source": [
    "try:\n",
    "    fsock = open(\"/notthere\")\n",
    "except IOError:\n",
    "    print \"The file does not exist, exiting gracefully\"\n",
    "print \"This line will always print\""
   ]
  },
  {
   "cell_type": "code",
   "execution_count": null,
   "metadata": {},
   "outputs": [],
   "source": [
    "try:\n",
    "    import termios, TERMIOS\n",
    "except ImportError:\n",
    "    try:\n",
    "        import msvcrt\n",
    "    except ImportError:\n",
    "        try:\n",
    "            from EasyDialogs import AskPassword\n",
    "        except ImportError:\n",
    "            getpass = default_getpass \n",
    "        else:\n",
    "            getpass = AskPassword\n",
    "    else:\n",
    "        getpass = win_getpass\n",
    "else:\n",
    "    getpass = unix_getpass"
   ]
  },
  {
   "cell_type": "code",
   "execution_count": null,
   "metadata": {},
   "outputs": [],
   "source": [
    "f = open(\"./blues.mp3\", \"rb\")  #以二进制格式打开一个文件用于只读。文件指针将会放在文件的开头。这是默认模式。\n",
    "f.tell()    #输出0  current position in the open file，什么都没做，就是0\n",
    "f.seek(-128, 2)  #指针移到注定位置\n",
    "                 #第二个参数，0:一个绝对位置（从文件头开始）\n",
    "                 #          1:相对位置（从当前位置开始）\n",
    "                 #          2:相对于末尾的位置（倒数128 bytes的位置）\n",
    "tagData = f.read(128) \n",
    "f.closed    #文件是否关闭，返回boolean\n",
    "f.close()   #关闭文件\n",
    "f.seek(0)   #指针初始化到最开始"
   ]
  },
  {
   "cell_type": "code",
   "execution_count": null,
   "metadata": {},
   "outputs": [],
   "source": [
    "try:\n",
    "    fsock = open(filename, \"rb\", 0)\n",
    "    try:\n",
    "        fsock.seek(−128, 2)\n",
    "        tagdata = fsock.read(128) \n",
    "    finally:\n",
    "        fsock.close()\n",
    "except IOError:\n",
    "    pass"
   ]
  },
  {
   "cell_type": "code",
   "execution_count": null,
   "metadata": {},
   "outputs": [],
   "source": [
    "logfile = open('test.log', 'w')   #打开一个文件只用于写入。如果该文件已存在则打开文件，并从开头开始编辑，即原有内容会被删除。\n",
    "logfile.write('test succeeded')   #如果该文件不存在，创建新文件。\n",
    "logfile.close()\n",
    "\n",
    "print( open('test.log').read()  )"
   ]
  },
  {
   "cell_type": "code",
   "execution_count": null,
   "metadata": {},
   "outputs": [],
   "source": [
    "logfile = open('test.log', 'a') \n",
    "logfile.write('\\nline 2')\n",
    "\n",
    "logfile.close()\n",
    "\n",
    "print(open('test.log').read() )"
   ]
  },
  {
   "cell_type": "markdown",
   "metadata": {},
   "source": [
    "3-2 regular expression"
   ]
  },
  {
   "cell_type": "code",
   "execution_count": null,
   "metadata": {},
   "outputs": [],
   "source": [
    "s = '100 NORTH MAIN ROAD'\n",
    "s.replace('ROAD', 'RD.')                #'100 NORTH BRD. RD.'\n",
    "s[:-4] + s[-4:].replace('ROAD', 'RD.')    #'100 NORTH BROAD RD.'"
   ]
  },
  {
   "cell_type": "code",
   "execution_count": null,
   "metadata": {},
   "outputs": [],
   "source": [
    "import re\n",
    "s = '100 NORTH BROAD ROAD'\n",
    "re.sub('ROAD$', 'RD.', s)       #简单的替换用replace，正则表达式替换用sub。第一个参数是正则表达式，第二个是需要替换的，第三个是文本"
   ]
  },
  {
   "cell_type": "code",
   "execution_count": null,
   "metadata": {},
   "outputs": [],
   "source": [
    "import re\n",
    "s = '100 BROAD'\n",
    "re.sub('ROAD$', 'RD.', s)     #'100 BRD.'     $ 表示匹配末尾\n",
    "re.sub('\\\\bROAD$', 'RD.', s)  #'100 BROAD'     \\b 表示匹配开头   第一个\\表示反斜杠，python中单个\\表示转译，所以要表示\\必须用\\\\\n",
    "s = '100 BROAD ROAD APT. 3'\n",
    "re.sub(r'\\bROAD$', 'RD.', s)  #'100 BROAD ROAD APT. 3'   前面加r，表示里面都是原生字符串，\\不表示转译，就是\\。不然“\\b”表示转译\n",
    "                                                         #后的一个字符串，且与正则表达式冲突，除非再加一个\\转译一下，即 “\\\\b”\n",
    "re.sub(r'\\bROAD', 'RD.', s) #'100 BROAD RD. APT. 3'"
   ]
  },
  {
   "cell_type": "code",
   "execution_count": null,
   "metadata": {},
   "outputs": [],
   "source": [
    "import re\n",
    "pattern = '^M?M?M?$'         # ^ 表示匹配开头， ？ 表示0个或者一个   match只匹配开头fun function。search是全段匹配tion function\n",
    "re.search(pattern, 'MMM')    #<re.Match object; span=(0, 3), match='MMM'>  span返回\n",
    "re.search(pattern, 'MMMM')   #none（什么都不返回，匹配不到）   因为^ 和 $ 锁定了，匹配的string最多三个M\n",
    "re.search(pattern, '')       #<re.Match object; span=(0, 0), match=''>"
   ]
  },
  {
   "cell_type": "code",
   "execution_count": null,
   "metadata": {},
   "outputs": [],
   "source": [
    "import re\n",
    "pattern = '^M{0,3}$'       #表示 ^ $ 锁定一个字符串里面，含有 0～3个 M。   0个1个2个3个都可以\n",
    "\n",
    "re.search(pattern, 'MMMM') #none（什么都不返回） \n",
    "re.search(pattern, 'MMM')  #<re.Match object; span=(0, 3), match='MMM'>"
   ]
  },
  {
   "cell_type": "code",
   "execution_count": null,
   "metadata": {},
   "outputs": [],
   "source": [
    "import re\n",
    "test = \"\\d\"\n",
    "string = \"284-12 West Street 23-13 \"\n",
    "re.sub(r'^[\\d-]+ ',  '',  string,1)     #数字和英文之间的空格也需要去掉，正则表达式后面直接空一下，就可以匹配这个空格\n",
    "#[\\d-]， []里面是pool/candidate，就是匹配数字，或者-\n",
    "#后面的数字，1代表匹配第一个，2代表匹配前两个，0表示匹配所有，不传这个参数也是匹配所有"
   ]
  },
  {
   "cell_type": "code",
   "execution_count": null,
   "metadata": {},
   "outputs": [],
   "source": [
    "import re\n",
    "test = \"\\d\"\n",
    "string = \"284-12 West Street 23-13\"\n",
    "re.sub(r'^[\\d-]+ ','',string)  #后面23-13匹配不掉，因为patten后面必须跟一个空格"
   ]
  },
  {
   "cell_type": "code",
   "execution_count": null,
   "metadata": {},
   "outputs": [],
   "source": [
    "import re\n",
    "test = \"\\d\"\n",
    "string = \"284-12 West Street 23-13 \"\n",
    "re.sub(r'[\\d-]+ ','',string)\n",
    "string = re.sub(r'e',r't',string)\n",
    "string"
   ]
  },
  {
   "cell_type": "code",
   "execution_count": null,
   "metadata": {},
   "outputs": [],
   "source": [
    "import re\n",
    "test = \"\\d\"\n",
    "string = \"284-12 West Street 23-13 \"\n",
    "re.sub(r'^[\\d-]+ ','',string)  # 前面^表示必须顶头"
   ]
  },
  {
   "cell_type": "markdown",
   "metadata": {},
   "source": [
    "4-1"
   ]
  },
  {
   "cell_type": "code",
   "execution_count": null,
   "metadata": {},
   "outputs": [],
   "source": [
    "re.compile(): 创建一个正则表达式pattern"
   ]
  },
  {
   "cell_type": "code",
   "execution_count": null,
   "metadata": {},
   "outputs": [],
   "source": [
    "re.search(): 查找，在字符串任意位置。匹配到了，返回第一个，匹配不到，返回None。\n",
    "re.match(): 查找，但只匹配开头。匹配到了返回结果。匹配不到返回None。\n",
    "import re\n",
    "print(re.match(\"func\", \"function func\"))\n",
    "# 打印结果 <re.Match object; span=(0, 4), match='func'>\n",
    "print(re.match(\"func\", \"function func\").span())\n",
    "# 打印结果  (0, 4)\n",
    "print(re.match(\"func1\", \"function func\"))\n",
    "# 打印结果 None\n",
    "注意：print(re.match(\"func1\", \"function\").span())会报错，因为取不到span\n",
    "\n",
    "print(re.search(\"tion\", \"function  tion\"))\n",
    "# 打印结果 <re.Match object; span=(4, 8), match='tion'>\n",
    "print(re.search(\"tion\", \"function tion\").span())\n",
    "# 打印结果  (4, 8)\n",
    "print(re.search(\"tion1\", \"function tion\"))\n",
    "# 打印结果 None\n",
    "注意：print(re.search(\"tion1\", \"function tion\").span())会报错，因为取不到tion1"
   ]
  },
  {
   "cell_type": "code",
   "execution_count": null,
   "metadata": {},
   "outputs": [],
   "source": [
    "re.findall(): 在字符串所有位置，查找所有符合的pattern。并返回。返回的是一个list[]\n",
    "import re\n",
    "print(re.findall(\"func\", \"function func\"))\n",
    "# 或者 regex.findall(partten)\n",
    "# 打印结果['func', 'func']"
   ]
  },
  {
   "cell_type": "code",
   "execution_count": null,
   "metadata": {},
   "outputs": [],
   "source": [
    "### Repetition Group\n",
    "+ : 1 or more\n",
    "* : 0 or more\n",
    "? : 0 or 1\n",
    "{k}: 前面的刚好出现k次\n",
    "{m,n}: m个到n个，m和n也包含\n",
    "{m,}: m个或者以上\n",
    "    import re\n",
    "    pattern = '^M{0,3}$'       #表示 ^ $ 锁定一个字符串里面，含有 0～3个 M。   0个1个2个3个都可以\n",
    "                               # 注意！ 两边都包含  0，1，2，3\n",
    "    re.search(pattern, 'MMMM') #none（什么都不返回） \n",
    "    re.search(pattern, 'MMM')  #<re.Match object; span=(0, 3), match='MMM'>\n",
    ". :代表任何字符，除了换行（/n）\n",
    "^: 匹配开头，表示这里必须是字符串顶头\n",
    "$: 匹配结尾，表示这里必须是字符串末尾\n",
    "\\: 转义字符"
   ]
  },
  {
   "cell_type": "code",
   "execution_count": null,
   "metadata": {},
   "outputs": [],
   "source": [
    "import re\n",
    "example = \"Welcome to the world of Python\"\n",
    "pattern = r'Python'\n",
    "aaa = re.search(pattern,example)\n",
    "\n",
    "print(aaa)\n",
    "if aaa:                              # 匹配到了，返回的可以作为true，匹配不到返回None就是false\n",
    "    print(\"found\", match.group())\n",
    "else:\n",
    "    print(\"No match found\")           "
   ]
  },
  {
   "cell_type": "code",
   "execution_count": null,
   "metadata": {},
   "outputs": [],
   "source": [
    "import re\n",
    "message = 'my number is 510-123-4567 and 5556677 my office number is 555-6677'\n",
    "myregex = re.compile(r'\\d\\d\\d-\\d\\d\\d-\\d\\d\\d\\d')     # ['510-123-4567']  最基本的，严格匹配，找到所有的patten\n",
    "#myregex = re.compile(r'(\\d\\d\\d-\\d\\d\\d-\\d\\d\\d\\d)')     # ['510-123-4567']  与上面相同，并不会返回一个list装一个一个元素的tuple\n",
    "#myregex = re.compile(r'(\\d\\d\\d-)?(\\d\\d\\d-\\d\\d\\d\\d)') # [('510-', '123-4567'), ('', '555-6677')]\n",
    "        # 返回list，里面每个元素都是tuple。tuple的第一个是(\\d\\d\\d-)?，接着第二个(\\d\\d\\d-\\d\\d\\d\\d)\n",
    "myregex = re.compile(r'(\\d\\d\\d-)?(\\d\\d\\d)(-)?(\\d\\d\\d\\d)')  \n",
    "        # [('510-', '123', '-', '4567'), ('', '555', '', '6677'), ('', '555', '-', '6677')]\n",
    "        # 返回list，里面每个元素都是四个元素的tuple  可以 myregex.findall(message)[1][1] 取到555 这个部分\n",
    "myregex = re.compile(r'(\\d\\d\\d-)?(\\d\\d\\d)-(\\d\\d\\d\\d)')   # [('510-', '123', '4567'), ('', '555', '6677')]\n",
    "myregex = re.compile(r'(\\d\\d\\d)?-(\\d\\d\\d)-(\\d\\d\\d\\d)')   # [('510', '123', '4567')]\n",
    "        # patter要求tuple的第二三个前面有一个 - \n",
    "        # 其实以上所有，都可以看作，先进行匹配 r‘ ’ 内部的内容，匹配到了就是一个tuple，然后根据括号划分tuple里的元素\n",
    "print(myregex.findall(message))   "
   ]
  },
  {
   "cell_type": "code",
   "execution_count": null,
   "metadata": {},
   "outputs": [],
   "source": [
    "re.group（）: 在正则表达式中用于获取分段截获的字符串\n",
    "import re\n",
    "a = \"123abc456\"\n",
    "print re.search(\"([0-9]*)([a-z]*)([0-9]*)\",a).group(0)    #123abc456,返回整体\n",
    "print re.search(\"([0-9]*)([a-z]*)([0-9]*)\",a).group(1)    #123\n",
    "print re.search(\"([0-9]*)([a-z]*)([0-9]*)\",a).group(2)    #abc\n",
    "print re.search(\"([0-9]*)([a-z]*)([0-9]*)\",a).group(3)    #456\n",
    "1. 正则表达式中的三组括号把匹配结果分成三组  group(1) 列出第一个括号匹配部分，group(2) 列出第二个括号匹配部分，group(3) 列出第三个括号匹配部分。\n",
    "2. 没有匹配成功的，re.search（）返回None\n",
    "3. 当然正则表达式中没有括号，group(1)肯定不对了。\n",
    "4. group（0）和group（）效果相同，均为获取取得的字符串整体。"
   ]
  },
  {
   "cell_type": "code",
   "execution_count": null,
   "metadata": {},
   "outputs": [],
   "source": [
    "myregex = re.compile(r'(\\()?(\\d\\d\\d)?(-)?(\\d\\d\\d-\\d\\d\\d\\d\\))')\n",
    "myregex.findall('My number is (123-4567)')      # [('(', '', '', '123-4567)')]\n",
    "# 第一个？前面的部分是匹配（。  看作（  \\( ） ,也可写作 \\(?   因为\\(可以看作一个，不需要括起来,想匹配一些特殊符号，需要前面加上\\，backflash\n",
    "message1 = \"My phone number is 123-4567\"\n",
    "message2 = \"My phone number is 201-123-4567\"\n",
    "message3 = \"My phone number is (201)-123-4567\"\n",
    "myphone = re.compile(r'\\(?(\\d\\d\\d)?\\)?-?\\d\\d\\d-\\d\\d\\d\\d')\n",
    "match = myphone.search(message1)\n",
    "match.group()  # 这个patten可以匹配上面message1，message2，message3"
   ]
  },
  {
   "cell_type": "code",
   "execution_count": null,
   "metadata": {},
   "outputs": [],
   "source": [
    "lang = re.compile(r'Pyt(hon|con|mon)')   # 匹配这几个里面的任意一个\n",
    "match = lang.search('Pytmon is a wonderful language')\n",
    "match.group()    #  'Pytmon'\n",
    "# Pipe Character(|) match one of many possible groups\n",
    "match = lang.search('Pytut is a wonderful language')\n",
    "match == None    #true"
   ]
  },
  {
   "cell_type": "code",
   "execution_count": null,
   "metadata": {},
   "outputs": [],
   "source": [
    "target = [';','.',',','–']\n",
    "string = \"It was the best of times, it was the worst of times, it was the age of wisdom, it was the age of foolishness, it was the epoch of belief, it was the epoch of incredulity, it was the season of Light, it was the season of Darkness, it was the spring of hope, it was the winter of despair, we had everything before us, we had nothing before us, we were all going direct to Heaven, we were all going direct the other way – in short, the period was so far like the present period, that some of its noisiest authorities insisted on its being received, for good or for evil, in the superlative degree of comparison only.\""
   ]
  },
  {
   "cell_type": "code",
   "execution_count": null,
   "metadata": {},
   "outputs": [],
   "source": [
    "# 统计一个句子里的标点个数\n",
    "num_puncts = 0\n",
    "for punct in target:\n",
    "    if punct in string:\n",
    "        num_puncts+=string.count(punct)\n",
    "print(num_puncts)    # 19"
   ]
  },
  {
   "cell_type": "code",
   "execution_count": null,
   "metadata": {},
   "outputs": [],
   "source": [
    "# 另一种写法\n",
    "import re\n",
    "pattern = r'[,;.–]'\n",
    "print(len(re.findall(pattern,string)))"
   ]
  },
  {
   "cell_type": "code",
   "execution_count": null,
   "metadata": {},
   "outputs": [],
   "source": []
  },
  {
   "cell_type": "markdown",
   "metadata": {},
   "source": [
    "# 3-16 review"
   ]
  },
  {
   "cell_type": "markdown",
   "metadata": {},
   "source": [
    "5-1 List Comprehension in Python      List comprehensions provide a concise way to create lists."
   ]
  },
  {
   "cell_type": "code",
   "execution_count": null,
   "metadata": {},
   "outputs": [],
   "source": [
    "### for example: \n",
    "numbers = [1, 2, 3, 4]\n",
    "squares = []\n",
    "\n",
    "for n in numbers:\n",
    "    squares.append(n**2)\n",
    "\n",
    "print(squares)  # Output: [1, 4, 9, 16]\n"
   ]
  },
  {
   "cell_type": "code",
   "execution_count": null,
   "metadata": {},
   "outputs": [],
   "source": [
    "#### Finding squares using list comprehensions:\n",
    "numbers = [1, 2, 3, 4]\n",
    "squares = [n**2 for n in numbers]\n",
    "print(squares)  # Output: [1, 4, 9, 16]\n",
    "for n in numbers: print(n**2)  # Output: [1, 4, 9, 16]"
   ]
  },
  {
   "cell_type": "code",
   "execution_count": null,
   "metadata": {},
   "outputs": [],
   "source": [
    "#### Example: Find common numbers from two lists using for loop.\n",
    "### Using conditions in list comprehensions:\n",
    "list_a = [1, 2, 3, 4]\n",
    "list_b = [2, 3, 4, 5]\n",
    "\n",
    "common_num = []\n",
    "\n",
    "for a in list_a:\n",
    "    for b in list_b:    \n",
    "        if a == b:      \n",
    "            common_num.append(a)\n",
    "      \n",
    "print(common_num)  # Output [2, 3, 4]"
   ]
  },
  {
   "cell_type": "code",
   "execution_count": null,
   "metadata": {},
   "outputs": [],
   "source": [
    "####Find common numbers from two list using list comprehension:\n",
    "list_a = [1, 2, 3, 4]\n",
    "list_b = [2, 3, 4, 5]\n",
    "common_num = [a for a in list_a for b in list_b if a == b]\n",
    "print(common_num) # Output: [2, 3, 4]"
   ]
  },
  {
   "cell_type": "code",
   "execution_count": null,
   "metadata": {},
   "outputs": [],
   "source": [
    "#### another way to simplify the expression \n",
    "\n",
    "common_num = [i  for i in list_a if i in list_b]\n",
    "\n",
    "print(common_num) # Output: [2, 3, 4]"
   ]
  },
  {
   "cell_type": "code",
   "execution_count": null,
   "metadata": {},
   "outputs": [],
   "source": [
    "###  Example: Return numbers from the list which are not equal \n",
    "###  as a tuple:\n",
    "list_a = [1, 2, 3]\n",
    "list_b = [2, 7]\n",
    "\n",
    "different_num = [(a, b) for a in list_a for b in list_b if a != b]\n",
    "\n",
    "print(different_num) # Output: [(1, 2), (1, 7), (2, 7), (3, 2), (3, 7)]"
   ]
  },
  {
   "cell_type": "code",
   "execution_count": null,
   "metadata": {},
   "outputs": [],
   "source": [
    "###Like tuples, list comprehensions can be used to \n",
    "###produce a list of a list, as shown below:\n",
    "list_a = [1, 2, 3]\n",
    "\n",
    "square_cube_list = [ [a**2, a**3] for a in list_a]\n",
    "\n",
    "print(square_cube_list) # Output: [[1, 1], [4, 8], [9, 27]]"
   ]
  },
  {
   "cell_type": "code",
   "execution_count": null,
   "metadata": {},
   "outputs": [],
   "source": [
    "##There are various built in functions and lambda functions \n",
    "##that can help play with lists just like list comprehensions. \n",
    "num = [1, 2, 3, 4]\n",
    "double_num = map(lambda x: x + x, num)\n",
    "# map()是 Python 内置的高阶函数，它接收一个函数 f 和一个 list，并通过把函数 f 依次作用在 list 的每个元素上，得到一个新的 list 并返回。\n",
    "double_num   # <map at 0x1071e46d0>\n",
    "print(list(double_num))  # [2, 4, 6, 8]"
   ]
  },
  {
   "cell_type": "code",
   "execution_count": null,
   "metadata": {},
   "outputs": [],
   "source": [
    "### create numeric indicators for colors\n",
    "color_list = ['green', 'red', 'blue', 'yellow']\n",
    "color_indicator = [0 if color == 'green'else 1 if color == 'red' else 3 for color in color_list]\n",
    "print(color_list)\n",
    "print(color_indicator)"
   ]
  },
  {
   "cell_type": "code",
   "execution_count": null,
   "metadata": {},
   "outputs": [],
   "source": [
    "color_list = ['green', 'red', 'blue', 'pink', 'yellow']\n",
    "color_mapping = {'green': 0, 'red': 1, 'blue':2, 'yellow':3}"
   ]
  },
  {
   "cell_type": "code",
   "execution_count": null,
   "metadata": {},
   "outputs": [],
   "source": [
    "color_indicator2 = [color_mapping[color] if color in color_mapping else 'na' for color in color_list]\n",
    "print(color_list)\n",
    "print(color_indicator2)"
   ]
  },
  {
   "cell_type": "code",
   "execution_count": null,
   "metadata": {},
   "outputs": [],
   "source": [
    "# You can nest loops to perform operations and return a matrix. Here we create a matrix of color attributes:\n",
    "color_list1 = ['green', 'red', 'blue', 'yellow']\n",
    "color_list2 = ['dark', 'bright', 'tinted', 'glowing']\n",
    "color_matrix = [[color2 + ' ' + color1 for color1 in color_list1] for color2 in color_list2]\n",
    "color_matrix"
   ]
  },
  {
   "cell_type": "code",
   "execution_count": null,
   "metadata": {},
   "outputs": [],
   "source": [
    "### How about Dictionary Comprehension"
   ]
  },
  {
   "cell_type": "code",
   "execution_count": null,
   "metadata": {},
   "outputs": [],
   "source": [
    "words = ['goodbye', 'cruel', 'world']\n",
    "data = {word: len(word) for word in words}\n",
    "print(data)    # {'goodbye': 7, 'cruel': 5, 'world': 5}"
   ]
  },
  {
   "cell_type": "code",
   "execution_count": null,
   "metadata": {},
   "outputs": [],
   "source": [
    "# Bonus: another useful trick for creating dictionaries is to zip two lists together.\n",
    "words = [\"hello\", \"old\", \"friend\"]\n",
    "lengths = [len(word) for word in words]\n",
    "data = dict(zip(words, lengths))\n",
    "data"
   ]
  },
  {
   "cell_type": "code",
   "execution_count": null,
   "metadata": {},
   "outputs": [],
   "source": [
    "# Filtering You can filter the items that are included.\n",
    "words = ['deified', 'radar', 'guns']\n",
    "palindromes = [word for word in words if word == word[::-1]]\n",
    "palindromes   # ['deified', 'radar']"
   ]
  },
  {
   "cell_type": "code",
   "execution_count": null,
   "metadata": {},
   "outputs": [],
   "source": [
    "words = [\"not\", \"on\", \"my\", \"watch\"]\n",
    "data = {w: w[::-1] for w in words if len(w) < 5}\n",
    "data # {'not': 'ton', 'on': 'no', 'my': 'ym'}"
   ]
  },
  {
   "cell_type": "markdown",
   "metadata": {},
   "source": [
    "### Getting the Data\n",
    "- Import BeautifulSoup from bs4, which is the module that can actually parse the HTML of the web page retrieved from the server"
   ]
  },
  {
   "cell_type": "code",
   "execution_count": null,
   "metadata": {},
   "outputs": [],
   "source": [
    "#import get to call a get request on the site\n",
    "from requests import get\n",
    "\n",
    "# 网址\n",
    "response = get('https://sfbay.craigslist.org/search/eby/apa?hasPic=1&availabilityMode=0') \n",
    "\n",
    "from bs4 import BeautifulSoup\n",
    "# 地址转成html的源码\n",
    "html_soup = BeautifulSoup(response.text, 'html.parser')"
   ]
  },
  {
   "cell_type": "code",
   "execution_count": null,
   "metadata": {},
   "outputs": [],
   "source": [
    "# 根据外层容器类型和类名称找到所有的需要爬取的单元，返回是一个list，里面每个元素都是每个容器里面包含的所有东西\n",
    "# 如以下代码，爬取了第一页，每一个post。查看html代码发现每个post的外层容器都是li，类为result-row，这个post的所有价格时\n",
    "# 间等信息都包含在这个li里面，网页上每页120个post，所以这个list里面有120个元素\n",
    "posts = html_soup.find_all('li', class_= 'result-row')\n",
    "post"
   ]
  },
  {
   "cell_type": "code",
   "execution_count": null,
   "metadata": {},
   "outputs": [],
   "source": [
    "print(type(posts)) #to double check that I got a ResultSet\n",
    "print(len(posts)) #to double check I got 120 (elements/page)"
   ]
  },
  {
   "cell_type": "code",
   "execution_count": null,
   "metadata": {},
   "outputs": [],
   "source": [
    "# 获取列表里面的第一个post\n",
    "post_one=posts[0]\n",
    "# post_one.a 获取的是这个li里面第一个a标签\n",
    "post_one_price = post_one.a  \n",
    "    # <a class=\"result-image gallery\" data-ids=\"1:00505_aFTt1itEBPC,1:00A0A_22Z8Ar6G4iJ,1:00606_fpQozuu1TJM,1:00404_aPezX59mAiX,1:00R0R_gzQZXo7haY6,1:00A0A_cvHDdl1uTcl,1:00p0p_4qHK5n8WwmE,1:00L0L_lgFkMyeIFya,1:00m0m_gSa7HbQDsTs,1:00a0a_eMPrs4hAyxF,1:01313_3j0BYWnDTrW,1:00Y0Y_c8tkis7BYvT,1:00i0i_h3y0yAjeUkv\" href=\"https://sfbay.craigslist.org/eby/apa/d/fremont-ground-floor-newly-renovated-2/7094408427.html\">\n",
    "    # <span class=\"result-price\">$3206</span>\n",
    "    # </a>\n",
    "# post_one.a.text 获取这个li标签里第一个a标签下的文本内容。 不包含标签里的参数\n",
    "post_one_price = post_one.a.text\n",
    "# 再例如\n",
    "post_one_price = post_one.span  # <span class=\"result-price\">$3206</span>\n",
    "post_one_price = post_one.span.text # '$3206'\n",
    "post_one_price"
   ]
  },
  {
   "cell_type": "code",
   "execution_count": null,
   "metadata": {},
   "outputs": [],
   "source": [
    "### remove white space from the string\n",
    "post_one_price = post_one.a.text # '\\n$3206\\n'\n",
    "post_one_price.strip() # '$3206'"
   ]
  },
  {
   "cell_type": "markdown",
   "metadata": {},
   "source": [
    "- I grabbed the date and time by specifying the attribute ‘datetime’ on class ‘result-date’. By specifying the ‘datetime’ attribute, I saved a step in data cleaning by making it unnecessary to convert this attribute from a string to a datetime object. This could also be made into a one-liner by placing ['datetime'] at the end of the .find() call, but I split it into two lines for clarity."
   ]
  },
  {
   "cell_type": "code",
   "execution_count": null,
   "metadata": {},
   "outputs": [],
   "source": [
    "#grab the time and datetime it was posted\n",
    "post_one_time = post_one.find('time', class_= 'result-date')\n",
    "# <time class=\"result-date\" datetime=\"2020-03-16 14:45\" title=\"Mon 16 Mar 02:45:23 PM\">Mar 16</time>\n",
    "post_one_time.text # 'Mar 16'   同理，获得这个标签下的文本内容\n",
    "post_one_time['datetime'] # '2020-03-16 14:45'  获取这个标签里datetime这个属性的值，一定不能丢了 ‘’\n",
    "post_one_time['title'] #'Mon 16 Mar 02:45:23 PM' 获取这个标签里title这个属性的值"
   ]
  },
  {
   "cell_type": "code",
   "execution_count": null,
   "metadata": {},
   "outputs": [],
   "source": [
    "# 标题的标签用的是a，类名称是result-title hdrlnk\n",
    "post_one_title = post_one.find('a', class_='result-title hdrlnk')\n",
    "    # <a class=\"result-title hdrlnk\" data-id=\"7094408427\" href=\"https://sfbay.craigslist.org/eby/apa/d/fremont-ground-floor-newly-renovated-2/7094408427.html\">Ground Floor - Newly Renovated - 2 bed 2 bath at Vue Fremont</a>\n",
    "post_one_link = post_one_title['href'] # 获取标签里href属性的值\n",
    "post_one_title_text = post_one_title.text  # 'Ground Floor - Newly Renovated - 2 bed 2 bath at Vue Fremont' \n",
    "                                           # 这个标签里的纯文本内容就是这个post的标题\n",
    "    "
   ]
  },
  {
   "cell_type": "code",
   "execution_count": null,
   "metadata": {},
   "outputs": [],
   "source": [
    "# 获取房间信息，抓取纯文本之后，只有第一个元素是房间信息，把它分割，然后取列表第0号元素\n",
    "post_one_num_bedrooms = post_one.find('span', class_ = 'housing').text  # '\\n                    2br -\\n                    850ft2 -\\n                '\n",
    "post_one_num_bedrooms = post_one.find('span', class_ = 'housing').text.split()  # ['2br', '-', '850ft2', '-']\n",
    "post_one_num_bedrooms = post_one.find('span', class_ = 'housing').text.split()[0]  # '2br'\n",
    "post_one_num_bedrooms"
   ]
  },
  {
   "cell_type": "code",
   "execution_count": null,
   "metadata": {},
   "outputs": [],
   "source": [
    "#build out the loop\n",
    "from time import sleep\n",
    "import re\n",
    "from random import randint #avoid throttling by not sending too many requests one after the other\n",
    "from warnings import warn\n",
    "from time import time\n",
    "from IPython.core.display import clear_output\n",
    "import numpy as np"
   ]
  },
  {
   "cell_type": "code",
   "execution_count": null,
   "metadata": {},
   "outputs": [],
   "source": [
    "# 从网站上面search form表单位置可以找到post的总数\n",
    "results_num = html_soup.find('div', class_= 'search-legend')\n",
    "results_total = int(results_num.find('span', class_='totalcount').text) "
   ]
  },
  {
   "cell_type": "code",
   "execution_count": null,
   "metadata": {},
   "outputs": [],
   "source": [
    "pages = np.arange(0, results_total+1, 120)\n",
    "pages \n",
    "# 根据页面链接变化规律，s=0 s=120 s=240...分别是第一页第二页第三页，所以生成一个从0-3000步长为120的数组，便于访问网页\n",
    "# np.arange()\n",
    "# 函数返回一个有终点和起点的固定步长的排列，如[1,2,3,4,5]，起点是1，终点是5，步长为1。\n",
    "# 参数个数情况： np.arange()函数分为一个参数，两个参数，三个参数三种情况\n",
    "# 1）一个参数时，参数值为终点，起点取默认值0，步长取默认值1。\n",
    "# 2）两个参数时，第一个参数为起点，第二个参数为终点，步长取默认值1。\n",
    "# 3）三个参数时，第一个参数为起点，第二个参数为终点，第三个参数为步长。其中步长支持小数\n"
   ]
  },
  {
   "cell_type": "code",
   "execution_count": null,
   "metadata": {},
   "outputs": [],
   "source": [
    "iterations = 0\n",
    "\n",
    "post_timing = []\n",
    "post_hoods = []\n",
    "post_title_texts = []\n",
    "bedroom_counts = []\n",
    "sqfts = []\n",
    "post_links = []\n",
    "post_prices = []"
   ]
  },
  {
   "cell_type": "code",
   "execution_count": null,
   "metadata": {},
   "outputs": [],
   "source": [
    "# https://sfbay.craigslist.org/search/eby/apa?s=120&availabilityMode=1   第二页\n",
    "# https://sfbay.craigslist.org/search/eby/apa?s=240&availabilityMode=1   第三页\n",
    "\n",
    "for page in pages:\n",
    "    \n",
    "    #get request\n",
    "    response = get(\"https://sfbay.craigslist.org/search/eby/apt?\" \n",
    "                   + \"s=\" #the parameter for defining the page number \n",
    "                   + str(page) #the page number in the pages array from earlier\n",
    "                   + \"&availabilityMode=0\")\n",
    "\n",
    "    sleep(randint(1,5))\n",
    "     \n",
    "    #throw warning for status codes that are not 200\n",
    "    if response.status_code != 200:\n",
    "        warn('Request: {}; Status code: {}'.format(requests, response.status_code))\n",
    "        \n",
    "    #define the html text\n",
    "    page_html = BeautifulSoup(response.text, 'html.parser')\n",
    "    \n",
    "    #define the posts\n",
    "    posts = html_soup.find_all('li', class_= 'result-row')\n",
    "        \n",
    "    #extract data item-wise\n",
    "    for post in posts:\n",
    "\n",
    "        if post.find('span', class_ = 'result-hood') is not None:\n",
    "\n",
    "            #posting date\n",
    "            #grab the datetime element 0 for date and 1 for time\n",
    "            post_datetime = post.find('time', class_= 'result-date')['datetime']\n",
    "            post_timing.append(post_datetime)\n",
    "\n",
    "            #neighborhoods\n",
    "            post_hood = post.find('span', class_= 'result-hood').text\n",
    "            post_hoods.append(post_hood)\n",
    "\n",
    "            #title text\n",
    "            post_title = post.find('a', class_='result-title hdrlnk')\n",
    "            post_title_text = post_title.text\n",
    "            post_title_texts.append(post_title_text)\n",
    "\n",
    "            #post link\n",
    "            post_link = post_title['href']\n",
    "            post_links.append(post_link)\n",
    "            \n",
    "            #removes the \\n whitespace from each side, removes the currency symbol, and turns it into an int\n",
    "            post_price = int(post.a.text.strip().replace(\"$\", \"\")) \n",
    "            post_prices.append(post_price)\n",
    "            \n",
    "            if post.find('span', class_ = 'housing') is not None:\n",
    "                \n",
    "                #if the first element is accidentally square footage\n",
    "                if 'ft2' in post.find('span', class_ = 'housing').text.split()[0]:\n",
    "                    \n",
    "                    #make bedroom nan\n",
    "                    bedroom_count = np.nan\n",
    "                    bedroom_counts.append(bedroom_count)\n",
    "                    \n",
    "                    #make sqft the first element\n",
    "                    sqft = int(post.find('span', class_ = 'housing').text.split()[0][:-3])\n",
    "                    sqfts.append(sqft)\n",
    "                    \n",
    "                #if the length of the housing details element is more than 2\n",
    "                elif len(post.find('span', class_ = 'housing').text.split()) > 2:\n",
    "                    \n",
    "                    #therefore element 0 will be bedroom count\n",
    "                    bedroom_count = post.find('span', class_ = 'housing').text.replace(\"br\", \"\").split()[0]\n",
    "                    bedroom_counts.append(bedroom_count)\n",
    "                    \n",
    "                    #and sqft will be number 3, so set these here and append\n",
    "                    sqft = int(post.find('span', class_ = 'housing').text.split()[2][:-3])\n",
    "                    sqfts.append(sqft)\n",
    "                    \n",
    "                #if there is num bedrooms but no sqft\n",
    "                elif len(post.find('span', class_ = 'housing').text.split()) == 2:\n",
    "                    \n",
    "                    #therefore element 0 will be bedroom count\n",
    "                    bedroom_count = post.find('span', class_ = 'housing').text.replace(\"br\", \"\").split()[0]\n",
    "                    bedroom_counts.append(bedroom_count)\n",
    "                    \n",
    "                    #and sqft will be number 3, so set these here and append\n",
    "                    sqft = np.nan\n",
    "                    sqfts.append(sqft)                    \n",
    "                \n",
    "                else:\n",
    "                    bedroom_count = np.nan\n",
    "                    bedroom_counts.append(bedroom_count)\n",
    "                \n",
    "                    sqft = np.nan\n",
    "                    sqfts.append(sqft)\n",
    "                \n",
    "            #if none of those conditions catch, make bedroom nan, this won't be needed    \n",
    "            else:\n",
    "                bedroom_count = np.nan\n",
    "                bedroom_counts.append(bedroom_count)\n",
    "                \n",
    "                sqft = np.nan\n",
    "                sqfts.append(sqft)\n",
    "            #    bedroom_counts.append(bedroom_count)\n",
    "                \n",
    "            #    sqft = np.nan\n",
    "            #    sqfts.append(sqft)\n",
    "                \n",
    "    iterations += 1\n",
    "    print(\"Page \" + str(iterations) + \" scraped successfully!\")\n",
    "\n",
    "print(\"\\n\")\n",
    "\n",
    "print(\"Scrape complete!\")\n"
   ]
  },
  {
   "cell_type": "markdown",
   "metadata": {},
   "source": [
    "7-1 Operators"
   ]
  },
  {
   "cell_type": "code",
   "execution_count": null,
   "metadata": {},
   "outputs": [],
   "source": [
    "2/3      # 0.6666666666666666\n",
    "2/3.     # 0.6666666666666666\n",
    "15 % 10  # 5\n",
    "2**3     # 8\n",
    "9//4     # 2        \n",
    "-9//4    # -3      \n",
    "-9//4.0  # -3.0\n",
    "### python里面 / 就是表示除以，不管被除数是小数还是整数，都会除出小数  // 才表示取商，不管被除数是小数还是整数，都是取比世界结果小的那个整数\n",
    "(a <> b)  #  <>  和  ！= 都是表示不等于\n",
    "c **= a.    ## c = c**a\n",
    "c //= a.     ## c = c//a"
   ]
  },
  {
   "cell_type": "code",
   "execution_count": null,
   "metadata": {},
   "outputs": [],
   "source": [
    "# Bitwise operator（对于二进制数一位一位的操作）\n",
    "a = 60            # 60 = 0011 1100 \n",
    "b = 13            # 13 = 0000 1101 \n",
    "c = 0"
   ]
  },
  {
   "cell_type": "code",
   "execution_count": null,
   "metadata": {},
   "outputs": [],
   "source": [
    "# & Binary AND    # 都是1，取1. 一个为0就是0\n",
    "c = a & b         # 12 = 0000 1100\n",
    "\n",
    "# |  Binary OR    # 都是0才取0，有一个1就取1\n",
    "c = a | b         # 61 = 0011 1101 \n",
    "\n",
    "# ^ Binary XOR    # 相同取0，不同取1    异或。\n",
    "c = a ^ b         # 49 = 0011 0001\n",
    "\n",
    "# ~ Binary Ones Complement  # one’s complement 逐位取反。  quiz里面 one’s complement of 110010101 = 001101010\n",
    "c =  ~ a          # -61 = 1100 0011（见下一个输入框）\n",
    "\n",
    "# << Binary Left Shift # 把二进制数往左移动右边位数，后面的用0填满\n",
    "c = a << 2        # 240 = 1111 0000\n",
    "\n",
    "# >> Binary Right Shift # 把二进制数往右移动右边位数，前面的用0填满\n",
    "c = a >> 2        # 15 = 0000 1111\n",
    "c"
   ]
  },
  {
   "cell_type": "code",
   "execution_count": null,
   "metadata": {},
   "outputs": [],
   "source": [
    "～60 = -61         # 60  0011 1100\n",
    "                  # ～60 1100 0011   （每个位置取反）\n",
    "# 第一位是符号位，0：+  1：-    所以 ～60 是负。\n",
    "# 后面的 100 0011表示64+2+1=67. 这里需要用除去符号能表示的最大的数减去当前表示的数，再加上符号。\n",
    "# ～60 = -（128-67） = -61"
   ]
  },
  {
   "cell_type": "code",
   "execution_count": null,
   "metadata": {},
   "outputs": [],
   "source": [
    "# 是否符号相反\n",
    "x = -100\n",
    "y = -1\n",
    "def oppositeSigns(x, y): \n",
    "    return x^y<0         # 异或，符号位不同取1，即为<0,相同取0,即为>0\n",
    "oppositeSigns(x, y)"
   ]
  },
  {
   "cell_type": "code",
   "execution_count": null,
   "metadata": {},
   "outputs": [],
   "source": [
    "# Logical Operators     不用&& 和 ｜｜ 表示 和  或。  而是直接用and和or表示逻辑操作\n",
    "if (a < 5 and b < 10):\n",
    "if (a < 5 or b < 10):"
   ]
  },
  {
   "cell_type": "code",
   "execution_count": null,
   "metadata": {},
   "outputs": [],
   "source": [
    "if ( a in list ):\n",
    "if ( b not in list ):"
   ]
  },
  {
   "cell_type": "markdown",
   "metadata": {},
   "source": [
    "7-2 List-String-Dictionary"
   ]
  },
  {
   "cell_type": "code",
   "execution_count": null,
   "metadata": {},
   "outputs": [],
   "source": [
    "a = 'Who Are You'\n",
    "b = a.split()\n",
    "print('Reverse is', a[::-1])   # Reverse is uoY erA ohW\n",
    "print('me'*3+' '+'no'*4)       # mememe nononono\n",
    "\n",
    "a = ['I', 'am', 'here']      \n",
    "print(' '.join(a))             # I am here\n",
    "\n",
    "# 两个单词所包含的字符和字符对应的个数是否相等\n",
    "from collections import Counter \n",
    "def is_anagram(str1, str2): \n",
    "    return Counter(str1) == Counter(str2)    # counter函数，统计字符串中各个字符的个数\n",
    "print(is_anagram('geek', 'eegk'))  # True\n",
    "print(is_anagram('geek', 'peek'))  # False"
   ]
  },
  {
   "cell_type": "code",
   "execution_count": null,
   "metadata": {},
   "outputs": [],
   "source": [
    "Counter('teeth')       # Counter({'t': 2, 'e': 2, 'h': 1})\n",
    "### Updating a Python Counter\n",
    "my_count = Counter()   # 定义一个counter\n",
    "my_count.update(\"a\")   # Counter({'a': 1}) 在当前的counter基础上，更新加入，之前是空，现在加入一个a\n",
    "my_count\n",
    "\n",
    "my_count.update(\"ab\")  # Counter({'a': 2, 'b': 1})\n",
    "my_count\n",
    "\n",
    "my_count.most_common()  # [('a', 2), ('b', 1)]，根据出现频率从大到小排列\n",
    "my_count.most_common()[:-2:-1]  # 找到排列后的最后一个，即出现频率最小的那个"
   ]
  },
  {
   "cell_type": "code",
   "execution_count": null,
   "metadata": {},
   "outputs": [],
   "source": [
    "# Flatten Lists\n",
    "import itertools\n",
    "a = [[1, 2], [3, 4], [5, 6]]\n",
    "b = list(itertools.chain.from_iterable(a))  \n",
    "print(b)                                    # [1, 2, 3, 4, 5, 6]\n"
   ]
  },
  {
   "cell_type": "code",
   "execution_count": 3,
   "metadata": {},
   "outputs": [
    {
     "ename": "SyntaxError",
     "evalue": "Missing parentheses in call to 'print'. Did you mean print(d2                       # {'a': '1', 'c': '3', 'b': '2'})? (<ipython-input-3-65005bf9e99b>, line 33)",
     "output_type": "error",
     "traceback": [
      "\u001b[0;36m  File \u001b[0;32m\"<ipython-input-3-65005bf9e99b>\"\u001b[0;36m, line \u001b[0;32m33\u001b[0m\n\u001b[0;31m    print d2                       # {'a': '1', 'c': '3', 'b': '2'}\u001b[0m\n\u001b[0m           ^\u001b[0m\n\u001b[0;31mSyntaxError\u001b[0m\u001b[0;31m:\u001b[0m Missing parentheses in call to 'print'. Did you mean print(d2                       # {'a': '1', 'c': '3', 'b': '2'})?\n"
     ]
    }
   ],
   "source": [
    "# Combining two lists\n",
    "# 将对象中对应的元素打包成一个个tuple（元组），然后返回由这些tuples组成的list（列表）\n",
    "a=['a','b','c','d','c','d']                 # a e\n",
    "b=['e','f','g','h']                         # b f\n",
    "for x, y in zip(a, b):                      # c g\n",
    "    print(x,y)                              # d h\n",
    "\n",
    "name = 'Aaron'\n",
    "name2 = 'Smit'             \n",
    "zipped = zip(name,name2)    \n",
    "print(zipped)                # <zip object at 0x1055288c0>\n",
    "# 两个list长度不一致，以短的为准，如name有5个，但name2只有四个，zip之后只有4个tuple\n",
    "# zipped之后的list必须用for输出\n",
    "for i in zipped:                          \n",
    "    print(i)                 # ('A', 'S') # ('a', 'm') # ('r', 'i') # ('o', 't') \n",
    "for (x,y) in zip(name,name2):\n",
    "    print (x,y, \"==\",x+y)    # A S == AS    # a m == am    # r i == ri    # o t == ot\n",
    "# 利用*号操作符，可以将list unzip（解压）\n",
    "for j in zip(*zipped):       # ('A', 'a', 'r', 'o')\n",
    "    print(j)                 # ('S', 'm', 'i', 't')\n",
    "\n",
    "# 把元组转换为元组的列表    \n",
    "t1 = (1,2,3)\n",
    "t2 = (4,5,6)\n",
    "t3 = (7,8,9)\n",
    "print (list(zip(t1,t2,t3)))  # [(1, 4, 7), (2, 5, 8), (3, 6, 9)]\n",
    "\n",
    "# 使用zip构造字典\n",
    "# 方法一：使用for循环\n",
    "k = [\"a\",\"b\",\"c\"]\n",
    "v = [\"1\",\"2\",\"3\"]\n",
    "d2 = {}\n",
    "for (k,v) in zip(k,v):\n",
    "    d2[k]=v \n",
    "print d2                       # {'a': '1', 'c': '3', 'b': '2'}\n",
    "# 方法二：使用dict\n",
    "k = [\"a\",\"b\",\"c\"]\n",
    "v = [\"1\",\"2\",\"3\"]\n",
    "d3 = dict(zip(k,v))\n",
    "print d3                       # {'a': '1', 'c': '3', 'b': '2'}\n",
    "\n",
    "# 矩阵的行列互换\n",
    "a = [[1, 2, 3], [4, 5, 6], [7, 8, 9]]\n",
    "# 第一种方法 通过python列表推导的方法\n",
    "print [ [row[col] for row in a] for col in range(len(a[0]))]  # [[1, 4, 7], [2, 5, 8], [3, 6, 9]]\n",
    "# 第二种方法：这种方法速度更快但也更难以理解，将list看成tuple解压，恰好得到我们“行列互换”的效果，再通过对每个元素应用list()函数，将tuple转换为list\n",
    "print zip(*a)           # [(1, 4, 7), (2, 5, 8), (3, 6, 9)]\n",
    "print map(list,zip(*a)) # [[1, 4, 7], [2, 5, 8], [3, 6, 9]]\n"
   ]
  },
  {
   "cell_type": "code",
   "execution_count": 22,
   "metadata": {},
   "outputs": [
    {
     "name": "stdout",
     "output_type": "stream",
     "text": [
      "10\n",
      "2 1\n"
     ]
    }
   ],
   "source": [
    "# 选出出现频率最大/最小的元素\n",
    "a = [10, 20, 30, 40, 20, 20, 30, 10, 40, 40, 40]\n",
    "set(a)\n",
    "print(min(set(a), key = a.count))   # 10\n",
    "# 交换变量的值\n",
    "x, y = 1, 2\n",
    "x, y = y, x\n",
    "print(x, y)                         # 2 1"
   ]
  },
  {
   "cell_type": "markdown",
   "metadata": {},
   "source": [
    "8-1 Functions"
   ]
  },
  {
   "cell_type": "code",
   "execution_count": 27,
   "metadata": {},
   "outputs": [
    {
     "name": "stdout",
     "output_type": "stream",
     "text": [
      "Cathy Eric\n",
      "Cathy Brandol\n"
     ]
    }
   ],
   "source": [
    "# 全局变量，定义了全局变量，除了这个function以外这个变量一直存在，且其他地方出现这个变量名，也是对这个变量操作\n",
    "def myFunction():\n",
    "    global a\n",
    "    a = \"Cathy\"\n",
    "    b = \"Eric\"\n",
    "    print(a,b)  # Cathy Eric\n",
    "a = \"Terra\"\n",
    "b = \"Brandol\"\n",
    "myFunction()      # Cathy Brandol    尽管定义了a = \"Terra\"，但是进行function之后，a这个全局变量被改变，\n",
    "print(a,b)        # 对于b，function里面修改的b和外面的全局b不是一个，所以没有被修改，输出的事外面全局b"
   ]
  },
  {
   "cell_type": "code",
   "execution_count": null,
   "metadata": {},
   "outputs": [],
   "source": [
    "### Functional programming\n",
    "### Finding the path\n"
   ]
  },
  {
   "cell_type": "code",
   "execution_count": 29,
   "metadata": {},
   "outputs": [],
   "source": [
    "import sys, os, re, unittest\n",
    "def regressionTest():\n",
    "    path = os.getcwd()          # '/Users/kaili/Stevens/551Python'\n",
    "    sys.path.append(path)      \n",
    "    files = os.listdir(path)    \n",
    "    for file in files:          # ['note','pythonRegex.png','.DS_Store','test.log','EE-551-Fall-2019-master',\n",
    "        print(file)             # '2-17 review.ipynb','.ipynb_checkpoints','HW2.ipynb' 'Quiz2.ipynb']"
   ]
  },
  {
   "cell_type": "code",
   "execution_count": 37,
   "metadata": {},
   "outputs": [
    {
     "data": {
      "text/plain": [
       "['/Users/kaili/Stevens/551Python',\n",
       " '/Users/kaili/opt/anaconda3/lib/python37.zip',\n",
       " '/Users/kaili/opt/anaconda3/lib/python3.7',\n",
       " '/Users/kaili/opt/anaconda3/lib/python3.7/lib-dynload',\n",
       " '',\n",
       " '/Users/kaili/opt/anaconda3/lib/python3.7/site-packages',\n",
       " '/Users/kaili/opt/anaconda3/lib/python3.7/site-packages/aeosa',\n",
       " '/Users/kaili/opt/anaconda3/lib/python3.7/site-packages/IPython/extensions',\n",
       " '/Users/kaili/.ipython',\n",
       " '/Users/kaili/Stevens/551Python',\n",
       " '/Users/kaili/Stevens/551Python',\n",
       " '/Users/kaili/Stevens/551Python',\n",
       " '/Users/kaili/Stevens/551Python',\n",
       " '/Users/kaili/Stevens/551Python',\n",
       " '/Users/kaili/Stevens/551Python']"
      ]
     },
     "execution_count": 37,
     "metadata": {},
     "output_type": "execute_result"
    }
   ],
   "source": [
    "path = os.getcwd()  \n",
    "path                         # '/Users/kaili/Stevens/551Python'\n",
    "# python程序中使用 import XXX 时，python解析器会在当前目录、已安装和第三方模块中搜索 xxx，如果都搜索不到就会报错。\n",
    "# 使用sys.path.append()方法可以临时添加搜索路径，方便更简洁的import其他包和模块。这种方法导入的路径会在python程序退出后失效。\n",
    "sys.path.append(path)\n",
    "sys.path       \n",
    "files = os.listdir(path)    \n",
    "    for file in files:          # ['note','pythonRegex.png','.DS_Store','test.log','EE-551-Fall-2019-master',\n",
    "        print(file)"
   ]
  },
  {
   "cell_type": "code",
   "execution_count": 40,
   "metadata": {},
   "outputs": [
    {
     "data": {
      "text/plain": [
       "[1, 3, 5, 9, -3]"
      ]
     },
     "execution_count": 40,
     "metadata": {},
     "output_type": "execute_result"
    }
   ],
   "source": [
    "li = [1, 2, 3, 5, 9, 10, 256, -3]\n",
    "def odd(n):\n",
    "    return n % 2\n",
    "list(filter(odd, li))      # [1, 3, 5, 9, -3]    filter(function,list)   对list里的每个元素进行function操作，返回list\n",
    "[e for e in li if odd(e)]  # [1, 3, 5, 9, -3]    利用list comprehension可以达到同样的效果\n",
    "\n",
    "filteredList = []\n",
    "for n in li:\n",
    "    if odd(n):\n",
    "        filteredList.append(n)\n",
    "filteredList                # [1, 3, 5, 9, -3]    利用for循环达到同样的效果"
   ]
  },
  {
   "cell_type": "code",
   "execution_count": 65,
   "metadata": {},
   "outputs": [
    {
     "name": "stdout",
     "output_type": "stream",
     "text": [
      "test.py\n"
     ]
    },
    {
     "data": {
      "text/plain": [
       "['test.py']"
      ]
     },
     "execution_count": 65,
     "metadata": {},
     "output_type": "execute_result"
    }
   ],
   "source": [
    "files = os.listdir(os.getcwd())  # 把工作目录下的所有文件列出来，存在files这个列表里\n",
    "files                     # ['note','pythonRegex.png','.DS_Store','test.log','EE-551-Fall-2019-master','2-17 review.ipynb','.ipynb_checkpoints','HW2.ipynb','Quiz2.ipynb']\n",
    "test = re.compile(\"test\\.py$\", re.IGNORECASE)  # 写出一个正则表达式，代表我们想要打开的文件\n",
    "files = filter(test.search, files)  # 对files列表里的每个文件进行test.search操作，test.search是  Regex.search操作\n",
    "list(files)          # test.py\n",
    "    \n",
    "files = os.listdir(path)\n",
    "test = re.compile(\"test\\.py$\", re.IGNORECASE) \n",
    "files = [f for f in files if test.search(f)]\n",
    "files                # test.py  利用list comprehension达到同样的操作"
   ]
  },
  {
   "cell_type": "markdown",
   "metadata": {},
   "source": [
    "filter 是一种 selection 将当前列表选出符合要求的，进行操作后输出\n",
    "map 是一种 transform  将当前列表进行修改，转化成新列表输出"
   ]
  },
  {
   "cell_type": "code",
   "execution_count": 73,
   "metadata": {},
   "outputs": [
    {
     "data": {
      "text/plain": [
       "[10, 'aa', (2, 'b', 2, 'b'), [1, 2, 1, 2]]"
      ]
     },
     "execution_count": 73,
     "metadata": {},
     "output_type": "execute_result"
    }
   ],
   "source": [
    "def double(n):\n",
    "    return n*2\n",
    "li = [1, 2, 3, 5, 9, 10, 256, -3]  # 注意map操作返回的也是个地址，需要list()转化成列表才能输出\n",
    "list(map(double, li))       # [2, 4, 6, 10, 18, 20, 512, -6]  利用map操作，对li列表进行改变\n",
    "[double(n) for n in li]     # [2, 4, 6, 10, 18, 20, 512, -6]  利用list comprehension对li进行操作返回新列表\n",
    "newlist = []          \n",
    "for n in li:                \n",
    "    newlist.append(double(n)) \n",
    "newlist                     # [2, 4, 6, 10, 18, 20, 512, -6]  利用for循环达到目的 \n",
    "\n",
    "li = [5, 'a', (2, 'b'),[1,2]]\n",
    "list(map(double, li))       # [10, 'aa', (2, 'b', 2, 'b'), [1, 2, 1, 2]]   \n",
    "#对于数字 *2就是乘2，对于字符串*2是写两次，对于tuple和list都是在这个tuple和list里面，注意是在当前的地方，把内部元素重复两次，而不是新生成一个"
   ]
  },
  {
   "cell_type": "code",
   "execution_count": null,
   "metadata": {},
   "outputs": [],
   "source": []
  },
  {
   "cell_type": "markdown",
   "metadata": {},
   "source": [
    "# 4-10 Review"
   ]
  },
  {
   "cell_type": "code",
   "execution_count": null,
   "metadata": {},
   "outputs": [],
   "source": [
    "import  获取整个模块\n",
    "from  允许获取特定名称"
   ]
  },
  {
   "cell_type": "code",
   "execution_count": null,
   "metadata": {},
   "outputs": [],
   "source": [
    "def spam(text):                # File b.py \n",
    "    print(text, 'spam')\n",
    "import b                 # File a.py \n",
    "b.spam('gumby')          # Prints \"gumby spam\""
   ]
  },
  {
   "cell_type": "code",
   "execution_count": null,
   "metadata": {},
   "outputs": [],
   "source": [
    "from b import spam       # Copy out a variable (one or more) \n",
    "spam('Hello world!')     # No need to qualify name    Hello world! spam"
   ]
  },
  {
   "cell_type": "code",
   "execution_count": null,
   "metadata": {},
   "outputs": [],
   "source": [
    "# 以下两行是simple.py 文件\n",
    "print('hello')\n",
    "spam = 1\n",
    "\n",
    "# 导入simple.py\n",
    "import simple # 只有第一次import 会运行 print\n",
    "simple.spam # 1 调用参数\n",
    "\n",
    "simple.spam = 2     # 修改模块里的参数\n",
    "import simple       # 第二次import，不会运行hello\n",
    "simple.spam         # 2 模块里的变量已经被修改。  在此之前import也不会重新加载"
   ]
  },
  {
   "cell_type": "code",
   "execution_count": null,
   "metadata": {},
   "outputs": [],
   "source": [
    "# 以下两行是small.py 文件\n",
    "x = 1\n",
    "y = [2, 3]\n",
    "\n",
    "from small import x, y   \n",
    "x = 42                   # x是不可变量，只会在局部改变\n",
    "y[0] = 42                # 数组是可变量，会在整个模块共享变化\n",
    "\n",
    "import small             \n",
    "small.x                  # 1 \n",
    "small.y                  # [42, 3]   可变的数组发生了改变"
   ]
  },
  {
   "cell_type": "code",
   "execution_count": null,
   "metadata": {},
   "outputs": [],
   "source": [
    "# from 更像是复制一份\n",
    "from small import x, y    # Copy two names out \n",
    "x = 42                    # Changes my x only\n",
    "import small              # Get module name\n",
    "small.x = 42              # Changes x in other module"
   ]
  },
  {
   "cell_type": "code",
   "execution_count": null,
   "metadata": {},
   "outputs": [],
   "source": [
    "from module import name1, name2   # 从模块中复制这两个\n",
    "# from的操作 等同于以下的import操作\n",
    "import module           # 取得模块\n",
    "name1 = module.name1    # 给这两个对象赋值 拷贝\n",
    "name2 = module.name2 \n",
    "del module              # 释放模块"
   ]
  },
  {
   "cell_type": "code",
   "execution_count": null,
   "metadata": {},
   "outputs": [],
   "source": [
    "# 大部分时间我们用from，当两个文件中有重名的方法，且我们需要同时用到两个方法，必须用import来导入\n",
    "# M.py\n",
    "def func():\n",
    "    ...do something...\n",
    "# N.py\n",
    "def func():\n",
    "    ...do something else...\n",
    "# O.py\n",
    "from M import func\n",
    "from N import func # 这个操作会覆盖上面的func\n",
    "func()             # 只会运行N中的func\n",
    "\n",
    "# O.py\n",
    "import M, N           # 用import就可以运行两个同名的function\n",
    "M.func()              \n",
    "N.func()     \n",
    "\n",
    "# O.py\n",
    "from M import func as mfunc    # 但是可以通过 from ** import ** as ** 修改名称达到多次调用重名方法的目的\n",
    "from N import func as nfunc\n",
    "mfunc(); nfunc()               "
   ]
  },
  {
   "cell_type": "code",
   "execution_count": 5,
   "metadata": {},
   "outputs": [
    {
     "data": {
      "text/plain": [
       "array([[ 19.0512,  -4.9202, -17.713 ],\n",
       "       [ 11.277 ,   4.7588,  18.208 ]])"
      ]
     },
     "execution_count": 5,
     "metadata": {},
     "output_type": "execute_result"
    }
   ],
   "source": [
    "import numpy as np\n",
    "data = np.array([[ 9.5256, -2.4601, -8.8565],\n",
    "        [ 5.6385, 2.3794, 9.104 ]])\n",
    "data * 10\n",
    "data + data\n",
    "data.shape  # (2, 3)\n",
    "data.dtype    # dtype('float64')"
   ]
  },
  {
   "cell_type": "code",
   "execution_count": null,
   "metadata": {},
   "outputs": [],
   "source": [
    "# list 转成 array\n",
    "data1 = [6, 7.5, 8, 0, 1]\n",
    "import numpy as np\n",
    "arr1 = np.array(data1)\n",
    "arr1"
   ]
  },
  {
   "cell_type": "code",
   "execution_count": null,
   "metadata": {},
   "outputs": [],
   "source": [
    "array = np.array([3, 6, 9, 12])\n",
    "division = array/3\n",
    "# list = [3, 6, 9, 12]    list不能这么操作\n",
    "# division = list/3"
   ]
  },
  {
   "cell_type": "code",
   "execution_count": null,
   "metadata": {},
   "outputs": [],
   "source": [
    "data2 = [[1, 2, 3, 4], [5, 6, 7, 8]]\n",
    "arr2 = np.array(data2)\n",
    "arr2\n",
    "arr2.ndim     # 2\n",
    "arr2.shape    #（2，4）\n",
    "arr2.dtype    # dtype('int64')"
   ]
  },
  {
   "cell_type": "code",
   "execution_count": null,
   "metadata": {},
   "outputs": [],
   "source": [
    "# zeros ones empty 创造Array\n",
    "np.zeros(10)    #  一维，全为 0 \n",
    "np.zeros((3, 6))   # 3 X 6  全为0      \n",
    "np.empty((2, 3, 2))    #  创建一个空的三维数组，最外面2个，每个里面有3个元素，每个元素再包含2个元素  这个方法不安全，并不能保证确实都为0\n",
    "np.arange(15)   # array([ 0,  1,  2,  3,  4,  5,  6,  7,  8,  9, 10, 11, 12, 13, 14])\n",
    "range(15)  # range(0, 15)"
   ]
  },
  {
   "cell_type": "code",
   "execution_count": null,
   "metadata": {},
   "outputs": [],
   "source": [
    "##### NumPy data types\n",
    "# int8, uint8,int16, uint16, int32, uint32, int64, uint64,float16,float32, float64, float128\n",
    "arr1 = np.array([1.342, 2.234, 3.21], dtype=np.float64) \n",
    "arr1    #  array([1.342, 2.234, 3.21 ])\n",
    "arr2 = np.array([1.342, 2.234, 3.21], dtype=np.int32)\n",
    "arr2    #  array([1, 2, 3], dtype=int32)\n",
    "\n",
    "arr = np.array([1, 2, 3, 4, 5])\n",
    "arr.dtype  # dtype('int64')\n",
    "float_arr = arr.astype(np.float64)    # 把小数类型转化为整数\n",
    "float_arr.dtype  # dtype('float64')\n",
    "\n",
    "arr = np.array([3.7, -1.2, -2.6, 0.5, 12.9, 10.1])\n",
    "arr.astype(np.int32)  # array([ 3, -1, -2,  0, 12, 10], dtype=int32)      小数转为整数，会丢失精度\n",
    "\n",
    "numeric_strings = np.array(['1.25', '-9.6', '42'], dtype=np.string_)  # 转化为字符类型存储，占用空间少\n",
    "numeric_strings                 # array([b'1.25', b'-9.6', b'42'], dtype='|S4')         b是表示每个元素都是bytes类型\n",
    "numeric_strings.astype(float)   # array([ 1.25, -9.6 , 42.  ])   需要计算的时候再变回来"
   ]
  },
  {
   "cell_type": "code",
   "execution_count": null,
   "metadata": {},
   "outputs": [],
   "source": [
    "# 对数组的计算 是对数组内每个元素都计算\n",
    "arr = np.array([[1., 2., 3.], [4., 5., 6.]])\n",
    "arr\n",
    "arr * arr\n",
    "1 / arr\n",
    "arr**0.5\n",
    "2 * arr"
   ]
  },
  {
   "cell_type": "code",
   "execution_count": null,
   "metadata": {},
   "outputs": [],
   "source": [
    "arr = np.arange(10)   # array([0, 1, 2, 3, 4, 5, 6, 7, 8, 9])\n",
    "arr[5]                # 5\n",
    "arr[5:8]              # array([5, 6, 7])\n",
    "arr[5:8] = 12         # array([ 0,  1,  2,  3,  4, 12, 12, 12,  8,  9])\n",
    "arr_slice = arr[5:8]  # array([12, 12, 12])\n",
    "arr_slice[1] = 12345  \n",
    "arr                   # array([    0,     1,     2,     3,     4,    12, 12345,    12,     8,9])\n",
    "arr_slice[:] = 64\n",
    "arr                   # array([ 0,  1,  2,  3,  4, 64, 64, 64,  8,  9])"
   ]
  },
  {
   "cell_type": "code",
   "execution_count": null,
   "metadata": {},
   "outputs": [],
   "source": [
    "arr = np.arange(10)  # array([0, 1, 2, 3, 4, 5, 6, 7, 8, 9])\n",
    "arr_slice = arr[5:8].copy()  # array([5, 6, 7])\n",
    "arr_slice[1] = 120  # array([  5, 120,   7])\n",
    "arr_slice  # array([0, 1, 2, 3, 4, 5, 6, 7, 8, 9])"
   ]
  },
  {
   "cell_type": "code",
   "execution_count": null,
   "metadata": {},
   "outputs": [],
   "source": [
    "# Dimensional slicing\n",
    "arr2d = np.array([[1, 2, 3], [4, 5, 6], [7, 8, 9]])\n",
    "arr2d[2]    # array([7, 8, 9])       选择第二行\n",
    "arr2d[:,2]  # array([3, 6, 9])       ： 表示所有行，  第二号列   即第三列\n",
    "arr2d[2,:]  # array([7, 8, 9])       第三行，所有列。  即第三行\n",
    "arr2d[0][2]  # 3   \n",
    "arr2d[0,2]   # 3\n",
    "arr2d[0:2,1:3]  # array([[2, 3],[5, 6]])   第一行第二行不包括第三行，第二列第三列，不包括第四列\n",
    "arr2d[:2,1:]    # array([[2, 3],[5, 6]]) \n",
    "arr2d[1, :2]    # array([4, 5])"
   ]
  },
  {
   "cell_type": "code",
   "execution_count": null,
   "metadata": {},
   "outputs": [],
   "source": [
    "# In multidimensional arrays, 2 X 2 X 3 array \"arr3d\"\n",
    "arr3d = np.array([[[1, 2, 3], [4, 5, 6]],   [[7, 8, 9], [10, 11, 12]]])\n",
    "arr3d[0]  #  array([[1, 2, 3],[4, 5, 6]])   三维数组取出一个是二维数组\n",
    "old_values = arr3d[0].copy()\n",
    "arr3d[0] = 42  # array([[[42, 42, 42],[42, 42, 42]],   [[7, 8, 9],[10, 11, 12]]])    和二维数组一样 会修改本来的数组，不是copy\n",
    "arr3d[0] = old_values    #array([[[ 1,  2,  3],[ 4,  5,  6]],   [[ 7,  8,  9],[10, 11, 12]]])   上一步操作，改变了这个三维数组\n",
    "arr3d[1, 0]    # array([7, 8, 9])\n",
    "\n",
    "array = np.arange(60).reshape((3, 4, 5)) # 将一维序列转化为一个3x4x5的三维数组\n",
    "print (array[2, 3, 4] == 59)     # true   取第一个序列的2号 里面的3号序列 里的4号。   即三维数组最后一个 59\n",
    "print (array[:2, :2, :2].shape)    # (2, 2, 2)      .shape 是看数组维数   这表明是一个2x2x2的数组  \n",
    "# 第一个：2，取到前两个二维数组组成的三维数组 [[[ 0, 1, 2, 3, 4],[ 5, 6, 7, 8, 9],[10, 11, 12, 13, 14],[15, 16, 17, 18, 19]],\n",
    "                                [[20, 21, 22, 23, 24],[25, 26, 27, 28, 29],[30, 31, 32, 33, 34],[35, 36, 37, 38, 39]]]\n",
    "# 第二个：2  对这两个数组，每个都取前两行[[[ 0, 1, 2, 3, 4],[ 5, 6, 7, 8, 9],   [[20, 21, 22, 23, 24],[25, 26, 27, 28, 29]]]\n",
    "# 第三个：2  对这两个数组，每个取前两列[[[ 0, 1],[ 5, 6],   [[20, 21],[25, 26]]]\n",
    "print (array[0, :2, :3].shape)    # (2, 3)   取第0个列表，是一个二维数组， 然后从中取[:2,:3]   2x3的数组\n",
    "print (array[:, 2, 0:1].shape)   # (3, 1)"
   ]
  },
  {
   "cell_type": "code",
   "execution_count": 10,
   "metadata": {},
   "outputs": [
    {
     "ename": "IndentationError",
     "evalue": "unexpected indent (<ipython-input-10-d042cb6505a1>, line 8)",
     "output_type": "error",
     "traceback": [
      "\u001b[0;36m  File \u001b[0;32m\"<ipython-input-10-d042cb6505a1>\"\u001b[0;36m, line \u001b[0;32m8\u001b[0m\n\u001b[0;31m    [[20, 21, 22, 23, 24],[25, 26, 27, 28, 29],[30, 31, 32, 33, 34],[35, 36, 37, 38, 39]]]\u001b[0m\n\u001b[0m    ^\u001b[0m\n\u001b[0;31mIndentationError\u001b[0m\u001b[0;31m:\u001b[0m unexpected indent\n"
     ]
    }
   ],
   "source": [
    "y = x[...,None]        # array([[[1],[2],[3]],  [[4],[5],[6]]])\n",
    "y.shape          # (2, 3, 1)\n",
    "z = x[:,:,np.newaxis]  #  array([[[1],[2],[3]],  [[4],[5],[6]]])    创建一个新的维度\n",
    "z.shape          # (2, 3, 1)"
   ]
  },
  {
   "cell_type": "code",
   "execution_count": null,
   "metadata": {},
   "outputs": [],
   "source": [
    "sum_val = np.sum(arr2d)\n",
    "sum_val\n",
    "arr2d\n",
    "# sum along the rows\n",
    "np.sum(arr2d,axis=1)\n",
    "# sum along the cols\n",
    "np.sum(arr2d,axis=0)\n"
   ]
  },
  {
   "cell_type": "code",
   "execution_count": null,
   "metadata": {},
   "outputs": [],
   "source": [
    "!cat data1.txt\n",
    "import numpy as np\n",
    "arr = np.loadtxt('data1.txt', delimiter=',')\n",
    "arr"
   ]
  },
  {
   "cell_type": "code",
   "execution_count": null,
   "metadata": {},
   "outputs": [],
   "source": [
    "arr = np.arange(8)\n",
    "arr.reshape((4, 2))    # array([[0, 1],[2, 3],[4, 5],[6, 7]])\n",
    "arr.reshape((4, 2)).reshape((2, 4))    # array([[0, 1, 2, 3],[4, 5, 6, 7]])\n",
    "arr = np.arange(15).reshape((5, 3))    \n",
    "arr.reshape(-1,1)     # -1表示不固定列数，但是每一行是一个元素\n",
    "arr.flatten()      # array([ 0,  1,  2,  3,  4,  5,  6,  7,  8,  9, 10, 11, 12, 13, 14])\n",
    "arr    #  注意 flatten不会改变原数组，返回的是一个copy"
   ]
  },
  {
   "cell_type": "code",
   "execution_count": null,
   "metadata": {},
   "outputs": [],
   "source": [
    "arr = np.arange(12).reshape((3, 4), order = 'c')    # row major order:   行顺序优先， 先排行，再排列\n",
    "arr  array([[ 0,  1,  2,  3],[ 4,  5,  6,  7],[ 8,  9, 10, 11]])\n",
    "arr = np.arange(12).reshape((3, 4), order = 'F')    # column major order列顺序优先，先排列，再排行\n",
    "arr  array([[ 0,  3,  6,  9],[ 1,  4,  7, 10],[ 2,  5,  8, 11]])"
   ]
  },
  {
   "cell_type": "code",
   "execution_count": null,
   "metadata": {},
   "outputs": [],
   "source": [
    "arr1 = np.array([[1, 2, 3], [4, 5, 6]])\n",
    "arr2 = np.array([[7, 8, 9], [10, 11, 12]])\n",
    "np.concatenate([arr1, arr2], axis=0)   # array([[ 1,  2,  3],[ 4,  5,  6],[ 7,  8,  9],[10, 11, 12]])\n",
    "np.concatenate([arr1, arr2], axis=1)  # array([[ 1,  2,  3,  7,  8,  9],[ 4,  5,  6, 10, 11, 12]])\n",
    "np.vstack((arr1, arr2))     # array([[ 1,  2,  3],[ 4,  5,  6],[ 7,  8,  9],[10, 11, 12]])\n",
    "np.hstack((arr1, arr2))     # array([[ 1,  2,  3,  7,  8,  9],[ 4,  5,  6, 10, 11, 12]])"
   ]
  },
  {
   "cell_type": "code",
   "execution_count": 12,
   "metadata": {},
   "outputs": [
    {
     "data": {
      "text/plain": [
       "array([[0, 1],\n",
       "       [2, 3],\n",
       "       [4, 5],\n",
       "       [6, 7]])"
      ]
     },
     "execution_count": 12,
     "metadata": {},
     "output_type": "execute_result"
    }
   ],
   "source": [
    "from numpy.random import randn\n",
    "arr = randn(5, 2)\n",
    "arr  #array([[ 0.45705948, -0.26175087],\n",
    "#        [ 1.1196993 ,  0.04744375],\n",
    "#        [ 0.50102204,  0.3650982 ],\n",
    "#        [ 0.30441264, -0.3692802 ],\n",
    "#        [-0.97912275,  0.54674308]])\n",
    "first, second, third = np.split(arr, [1, 3])\n",
    "first   # array([[ 0.45705948, -0.26175087]])\n",
    "second  # array([[1.1196993 , 0.04744375],[0.50102204, 0.3650982 ]])\n",
    "third   # array([[ 0.30441264, -0.3692802 ],[-0.97912275,  0.54674308]])"
   ]
  },
  {
   "cell_type": "markdown",
   "metadata": {},
   "source": [
    "- sum  $\\;\\;\\;\\;\\;\\;$     Sum of all the elements in the array or along an axis. \n",
    "- mean     $\\;\\;\\;\\;\\;\\;$          Arithmetic mean\n",
    "- std, var   $\\;\\;\\;\\;\\;\\;$        Standard deviation and variance, respectively\n",
    "- min, max      $\\;\\;\\;\\;\\;\\;$     Minimum and maximum.\n",
    "- argmin, argmax  $\\;\\;\\;\\;\\;\\;$   Indices of minimum and maximum elements, respectively\n",
    "- prod       $\\;\\;\\;\\;\\;\\;$     Product of elements starting from 0\n",
    "- cumsum         $\\;\\;\\;\\;\\;\\;$    Cumulative sum of elements starting from 0\n",
    "- cumprod       $\\;\\;\\;\\;\\;\\;$     Cumulative product of elements starting from 0\n",
    "\n"
   ]
  },
  {
   "cell_type": "code",
   "execution_count": null,
   "metadata": {},
   "outputs": [],
   "source": [
    "arr = np.array([[0, 1],[2, 3],[4, 5],[6, 7]])\n",
    "arr.mean()      # 3.5     所有元素的平均数\n",
    "np.mean(arr)    # 3.5\n",
    "arr.sum()       # 28      所有元素的和\n",
    "arr.std()       # 2.29128784747792    方差\n",
    "arr.mean(axis=1)  # array([0.5, 2.5, 4.5, 6.5])    在x方向上求平均值  （对每一行求平均）\n",
    "arr.sum(0)      # array([12, 16])   对每一列求和\n",
    "\n",
    "arr = np.array([[1, 2, 3], [4,5, 6], [7, 8, 9]])\n",
    "arr.prod()      # 362880    所有元素求积\n",
    "arr.prod(0)     # array([ 28,  80, 162])   每一列求积\n",
    "arr.cumsum(0)   # array([[ 1,  2,  3],[ 5,  7,  9],[12, 15, 18]])    在列方向上，累计求和  （计算后的每个元素都是原数组对应位置以上所有数字之和）\n",
    "arr.cumprod(1)  # array([[  1,   2,   6],[  4,  20, 120],[  7,  56, 504]])\n",
    "np.cumsum(arr)  # array([ 1,  3,  6, 10, 15, 21, 28, 36, 45])     一行一行顺着看下来 累计求和 \n",
    "np.cumsum(arr, 0)   # array([[ 1,  2,  3],[ 5,  7,  9],[12, 15, 18]])    在列方向上累计求和\n",
    "np.cumprod(arr+1,0) # array([[  2,   3,   4],[ 10,  18,  28],[ 80, 162, 280]])    "
   ]
  },
  {
   "cell_type": "code",
   "execution_count": 34,
   "metadata": {},
   "outputs": [
    {
     "data": {
      "text/plain": [
       "array([[    1,     4,     7,    10,   280],\n",
       "       [    2,     5,     8,    11,   880],\n",
       "       [    3,    12,    21,    30, 22680]])"
      ]
     },
     "execution_count": 34,
     "metadata": {},
     "output_type": "execute_result"
    }
   ],
   "source": [
    "arr1 = np.arange(15)\n",
    "arr1   # array([ 0,  1,  2,  3,  4,  5,  6,  7,  8,  9, 10, 11, 12, 13, 14])\n",
    "# reshape arr1 to a 3X5 array  as \n",
    "# array([[ 0,  3,  6,  9, 12],\n",
    "#        [ 1,  4,  7, 10, 13],\n",
    "#        [ 2,  5,  8, 11, 14]])\n",
    "arr2 = arr1.reshape(3,5,order = 'f')\n",
    "\n",
    "# calculate the sum of each column of the above array\n",
    "# array([ 3, 12, 21, 30, 39])\n",
    "arr3 = arr2.sum(0)\n",
    "\n",
    "# put the column summation at the bottom of the array, like\n",
    "# array([[ 0,  3,  6,  9, 12],\n",
    "#       [ 1,  4,  7, 10, 13],\n",
    "#       [ 2,  5,  8, 11, 14],\n",
    "#       [ 3, 12, 21, 30, 39]])\n",
    "arr4 = np.vstack((arr2,arr3))\n",
    "arr4\n",
    "\n",
    "# Slice the above array by removing the top row and the ending column,   like\n",
    "# array([[ 1,  4,  7, 10],\n",
    "#       [ 2,  5,  8, 11],\n",
    "#       [ 3, 12, 21, 30]])\n",
    "arr5 = arr4[1:,:-1]\n",
    "arr5\n",
    "\n",
    "# calculate the product of all elements in each row of the above matrix, like \n",
    "# array([[  280],\n",
    "#       [  880],\n",
    "#       [22680]])\n",
    "arr6 = arr5.prod(1).reshape(-1,1)\n",
    "arr6\n",
    "\n",
    "# put the above product elements at the right side of the array, like\n",
    "# array([[    1,     4,     7,    10,   280],\n",
    "#        [    2,     5,     8,    11,   880],\n",
    "#        [    3,    12,    21,    30, 22680]])\n",
    "arr7 = np.hstack((arr5,arr6))\n",
    "arr7\n"
   ]
  },
  {
   "cell_type": "markdown",
   "metadata": {},
   "source": [
    "# 4.24 review"
   ]
  },
  {
   "cell_type": "markdown",
   "metadata": {},
   "source": [
    "pandas"
   ]
  },
  {
   "cell_type": "code",
   "execution_count": null,
   "metadata": {},
   "outputs": [],
   "source": [
    "# 从cvs导入数据\n",
    "import pandas as pd\n",
    "df = pd.read_csv(\"SAT.csv\")\n",
    "df              # 查看完整数据\n",
    "df.head()       # 数据开头的一小部分，只展示前五行左右\n",
    "df.shape        # (460, 6) 数据的大小 460x6\n",
    "df.describe()   # 一些统计数据，如各项目总数，平均数，超过25%的数量，超过50%的数量\n",
    "# 从URL导入数据\n",
    "df2 = pd.read_csv(\"http://samplecsvs.s3.amazonaws.com/SalesJan2009.csv\")\n",
    "# 选择单列数据\n",
    "df['Math']      # 查看某一条数据， 会列出df这个数据的math这一项所有数据\n",
    "df.Math         # 同上\n",
    "# 选择多列数据\n",
    "columns_to_be_selected = [\"Reading\", \"Math\", \"Writing\"]   # 先创建一个要选取列的列表\n",
    "df[columns_to_be_selected]                                # 然后把这个列表当作下标使用。 会返回这三列的所有数据\n",
    "# 选择行\n",
    "df.iloc[0:3, :]    # 前三行  0，1，2\n",
    "df.loc[0:7]        # 前八行  0，1，2，3，4，5，6，7    注意这个包含后面\n",
    "df.iloc[:,0:3]     # 前三列  0，1，2\n",
    "df.loc[2:4, 'Math']   # 选择2，3，4行 Math这一列   注意包含后面\n",
    "df.iloc[2:4, 'Math']  # 不会有输出\n",
    "df.loc[2:4, ['Math', 'Reading']]   # 选择2，3，4行 Math，Reading这两列\n",
    "df.iloc[2:4, 4]       # 2，3行，  4号这一列（第五列）  \n",
    "# iloc只能输入index下标，loc可以输入字符，例如Math这种   通常根据index索引用iloc，根据表头内容索引用loc\n",
    "df.fillna(0)        # 缺失的数据 没有数据的 位置填充为0   不会改变原数据，返回的是一个复制版本\n",
    "df.loc[2:4, ['Math', 'Reading']].isnull()   # 检查2，3行  Math，Reading这两列的数据是不是为空  会对每一个单元格返回true/false\n",
    "df.loc[2:4, ['Math', 'Reading']].notnull()  # 跟上面输出结果相反  不是空返回true\n",
    "df.dropna()         # 删除含有NaN数据的行，哪怕只有一个地方数据为空\n",
    "df.fillna('T')      # 没有数据的地方填充为T\n",
    "df.fillna('T', inplace = True)  # 把T替换成True\n",
    "# 常规的计算函数\n",
    "df[\"Math\"].sum()  # 159393.0   返回这一列的所有和\n",
    "df[[\"Math\", \"Reading\"]].mean()  # Math       412.935233   Reading    404.248705    dtype: float64   返回这两列的平均数\n",
    "df[[\"Math\", \"Reading\"]].min()   # 最小   \n",
    "df[[\"Math\", \"Reading\"]].max()   # 最大\n",
    "df[[\"Math\", \"Reading\"]].median() # 中间数\n",
    "# 读取没有表头的数据   （这个文件本身就没有第一行表头）\n",
    "df_noheader = pd.read_csv('SAT_no_header.csv', header = None)    # 没有表头会自动加上0，1，2，3...的表头\n",
    "df_noheader[2]    # 只读取第三列（即2号列，0，1，2...）（会自动给附加列的编号，即使原文件没有，编号从0开始）\n",
    "df_noheader[0:2]  # 读取0，1两行    注意： 只写一个数，表示选取列，写 a:b  选取的行\n",
    "df_noheader.iloc[0:2,2:4]  # 0，1两行 2，3两列    iloc不包含后面的\n",
    "df_noheader.loc[0:2,2:4]   # 0，1，2三行 2，3，4三列   loc包含后面的\n",
    "df_noheader.loc[[0, 1, 2, 6,7, 8],2:4]   # 0，1，2，6，7，8这几行的2，3，4列    loc可以根据表头字符索引。  \n",
    "df_noheader.loc[list(range(0,3)) + list(range(6,9)),2:4]  # 先进行lis计算，得到[0，1，2，6，7，8]，选取这几行的2，3，4列\n",
    "# 数据筛选\n",
    "df_part = df [ df['numStudents']>30]   # 选取numStudents的数据大于30的这几行\n",
    "df_refine = df[ (df['numStudents']<30)  &  (df['Reading']>400) & (df['Math']>400) ]   # 可以多个操作符配合判断"
   ]
  },
  {
   "cell_type": "markdown",
   "metadata": {},
   "source": [
    "class"
   ]
  },
  {
   "cell_type": "code",
   "execution_count": 2,
   "metadata": {},
   "outputs": [],
   "source": [
    "class SomeClass:\n",
    "    variable_1 = \"This is a class variable\"\n",
    "    variable_2 = 100    #this is also a class variable.\n",
    "\n",
    "    def __init__(self, param1, param2):\n",
    "        self.instance_var1 = param1    #instance_var1 is a instance variable实例变量\n",
    "        self.instance_var2 = param2   "
   ]
  },
  {
   "cell_type": "code",
   "execution_count": 9,
   "metadata": {},
   "outputs": [
    {
     "data": {
      "text/plain": [
       "28"
      ]
     },
     "execution_count": 9,
     "metadata": {},
     "output_type": "execute_result"
    }
   ],
   "source": [
    "obj1 = SomeClass(\"some thing\", 18)    #creating instance of SomeClass named obj1\n",
    "obj2 = SomeClass(28, 6)        #creating a instance of SomeClass named obj2\n",
    "\n",
    "obj1.variable_1   # 'This is a class variable'\n",
    "obj2.variable_2   # 100    这两个都是访问的类变量\n",
    "obj1.instance_var1 #  'some thing'   \n",
    "obj2.instance_var1 # 28    这两个访问的都是实例变量"
   ]
  },
  {
   "cell_type": "code",
   "execution_count": null,
   "metadata": {},
   "outputs": [],
   "source": [
    "class SomeClass:    \n",
    "    def create_arr(self): # An instance method\n",
    "        self.arr = []    \n",
    "    def insert_to_arr(self, value):  #An instance method\n",
    "        self.arr.append(value)\n",
    "    def printsome(self):\n",
    "        print('hello')\n",
    "SomeClass.printsome(11)  # 可以不用创建实例来调用某个方法\n",
    "obj1 = SomeClass()\n",
    "obj1.insert_to_arr(6)\n",
    "obj1.arr        # [6]"
   ]
  },
  {
   "cell_type": "code",
   "execution_count": null,
   "metadata": {},
   "outputs": [],
   "source": [
    "class C2: pass                 # 创建建一个空类\n",
    "class C3: pass\n",
    "class C1(C2, C3):              # 继承父类方法\n",
    "    def __init__(self, who):    # Set name when constructed\n",
    "        self.name = who         # Self is either I1 or I2\n",
    "    def setname(self, who):    # Assign name: C1.setname\n",
    "        self.name = who        # Self is either I1 or I2\n",
    "\n",
    "I1 = C1()                      # Make two instances\n",
    "I1.setname('bob')              # Sets I1.name to 'bob'\n",
    "print(I1.name)                 # Prints 'bob'"
   ]
  },
  {
   "cell_type": "code",
   "execution_count": 11,
   "metadata": {},
   "outputs": [
    {
     "name": "stdout",
     "output_type": "stream",
     "text": [
      "500\n",
      "1000\n"
     ]
    }
   ],
   "source": [
    "class Employee:                     # 父类\n",
    "    def computeSalary(self): return 500   # 父类方法\n",
    "    def giveRaise(self): pass\n",
    "    def promote(self): pass\n",
    "    def retire(self): pass\n",
    "class Engineer(Employee):          # 子类 继承父类\n",
    "    def computeSalary(self): return 1000  # 子类重写方法\n",
    "bob = Employee()      \n",
    "sue = Engineer()      \n",
    "company = [bob, sue]      \n",
    "for emp in company:\n",
    "    print(emp.computeSalary()) # 500   1000"
   ]
  },
  {
   "cell_type": "code",
   "execution_count": null,
   "metadata": {},
   "outputs": [],
   "source": [
    "class FirstClass:                \n",
    "    def setdata(self, value):    \n",
    "        self.data = value        \n",
    "    def display(self):\n",
    "        print(self.data)         \n",
    "x = FirstClass()        \n",
    "x.setdata(\"King Arthur\")     # 利用方法 设置变量值\n",
    "x.display()          \n",
    "x.data = \"New value\"         # 直接用点方法修改变量\n",
    "x.display()\n",
    "x.anothername = \"spam\"       # 也可以用点方法创建新的变量"
   ]
  },
  {
   "cell_type": "code",
   "execution_count": null,
   "metadata": {},
   "outputs": [],
   "source": [
    "# 从模块中导入类\n",
    "from modulename import FirstClass # Copy name into my scope\n",
    "class SecondClass(FirstClass):    # 导入之后的类可以直接用\n",
    "    def display(self):\n",
    "        pass\n",
    "# 等价于下面\n",
    "import modulename                            # Access the whole module\n",
    "class SecondClass(modulename.FirstClass):    # Qualify to reference\n",
    "    def display(self):\n",
    "        pass"
   ]
  },
  {
   "cell_type": "code",
   "execution_count": null,
   "metadata": {},
   "outputs": [],
   "source": [
    "class ThirdClass(SecondClass):               # Inherit from SecondClass\n",
    "    def __init__(self, value):               # __init__ 每当创建一个实例的时候，这个方法自动调用\n",
    "        self.data = value\n",
    "    def __add__(self, other):                # __add__  当这个类出现 + 运算的时候，自动调用\n",
    "        return ThirdClass(self.data + other)\n",
    "    def __str__(self):                       # # __str__  当这个类出现 print的时候 调用    On \"print(self)\", \"str()\"\n",
    "        return '[ThirdClass: %s]' % self.data\n",
    "    def mul(self, other):                    # In-place change: named\n",
    "        self.data *= other\n",
    "a = ThirdClass('abc')        # 初始化方法\n",
    "a.display()  # Current value = \"abc\"    继承来的方法\n",
    "print(a)     # [ThirdClass: abc]        输出时调用 __str__: returns display string \n",
    "b = a + 'xyz'   # __add__: 重新定义 + 为把类的data属性相加\n",
    "b            # <__main__.ThirdClass at 0x11039ca10>    b是一个类，直接输出是地址\n",
    "b.display()  # Current value = \"abcxyz\"\n",
    "print(b)     # [ThirdClass: abcxyz]     调用__str__\n",
    "a.mul(3)     \n",
    "print(a)     # [ThirdClass: abcabcabc]"
   ]
  },
  {
   "cell_type": "code",
   "execution_count": null,
   "metadata": {},
   "outputs": [],
   "source": []
  },
  {
   "cell_type": "code",
   "execution_count": 25,
   "metadata": {},
   "outputs": [
    {
     "name": "stdout",
     "output_type": "stream",
     "text": [
      "Bob\n"
     ]
    },
    {
     "data": {
      "text/plain": [
       "'Sue'"
      ]
     },
     "execution_count": 25,
     "metadata": {},
     "output_type": "execute_result"
    }
   ],
   "source": [
    "class rec: \n",
    "    pass\n",
    "rec.name = 'Bob'  # 直接增加属性并赋值\n",
    "rec.age = 40       \n",
    "print(rec.name)   # 即使没有实例也可以访问\n",
    "x = rec()         # 创建实例来继承类\n",
    "y = rec()\n",
    "x.name, y.name # ('Bob', 'Bob')   实例可以继承类的属性 \n",
    "list(rec.__dict__.keys())  # ['__module__', '__dict__', '__weakref__', '__doc__', 'name','age']   获取这个变量的属性空间\n",
    "x.__dict__          # {}\n",
    "x.name   # Bob    继承父类的\n",
    "x.__dict__['name']  # 报错   x没有自己的name属性\n",
    "x.name = 'Sue'      # 只修改x的name属性\n",
    "x.__dict__['name']  # Sue   可以访问到x的name属性\n",
    "x.__class__         # __main__.rec     访问父类\n",
    "rec.__bases__       # (object,)"
   ]
  },
  {
   "cell_type": "code",
   "execution_count": null,
   "metadata": {},
   "outputs": [],
   "source": [
    "def uppername(obj):\n",
    "    return obj.name.upper()   # Still meeds a self argument (obj)\n",
    "uppername(x) # 'SUE'    Call as a simple function\n",
    "rec.method = uppername  # Now it's a class's method!\n",
    "x.method() # Run method to process x\n",
    "y.method() # Same, but pass y to seld\n",
    "rec.method(x) # Can call through instance or class"
   ]
  },
  {
   "cell_type": "code",
   "execution_count": null,
   "metadata": {},
   "outputs": [],
   "source": [
    "# 用类来打包数据\n",
    "rec = ('Bob', 40.5, ['dev', 'mgr']) # Tuple-based record\n",
    "print(rec[0])   # Bob\n",
    "rec = {}  # Dictionary-based record\n",
    "rec['name'] = 'Bob'\n",
    "rec['age'] = 40.5\n",
    "rec['jobs'] = ['dev', 'mgr']\n",
    "print(rec['name'])   # Bob\n",
    "\n",
    "class rec: pass\n",
    "rec.name = 'Bob'   # Class-based record\n",
    "rec.age = 40.5\n",
    "rec.jobs = ['dev', 'mgr']\n",
    "print(rec.name)\n",
    "\n",
    "class rec: pass\n",
    "pers1 = rec()   # Instance-based records\n",
    "pers1.name = 'Bob'\n",
    "pers1.jobs = ['dev', 'mgr']\n",
    "pers1.age = 40.5\n",
    "pers2 = rec()\n",
    "pers2.name = 'Sue'\n",
    "pers2.jobs = ['dev', 'cto']\n",
    "pers1.name, pers2.name   # ('Bob', 'Sue')\n",
    "\n",
    "class Person:\n",
    "    def __init__(self, name, jobs, age=None):   # class = data + logic\n",
    "        self.name = name\n",
    "        self.jobs = jobs\n",
    "        self.age = age\n",
    "    def info(self):\n",
    "        return (self.name, self.jobs)\n",
    "rec1 = Person('Bob', ['dev', 'mgr'], 40.5) # Construction calls\n",
    "rec2 = Person('Sue', ['dev', 'cto'])\n",
    "rec1.jobs, rec2.info()\n"
   ]
  },
  {
   "cell_type": "code",
   "execution_count": null,
   "metadata": {},
   "outputs": [],
   "source": [
    "# File person.py (start)\n",
    "class Person: # Start a class\n",
    "# Add record field initialization\n",
    "class Person:\n",
    "    def __init__(self, name. job, pay):  # takes 3 arguments\n",
    "        self.name = name                   # Fill out fields when created\n",
    "        self.job = job                     # self is the new instance obj\n",
    "        self.pay = pay\n",
    "# Add defaults for constructor arguments\n",
    "class Person:  \n",
    "    def __init__(self, name, job=None, pay=0): # Normal function args\n",
    "        self.name = name\n",
    "        self.job = job\n",
    "        self.pay = pay\n",
    "# Python programmers use the interactive prompt for simple one-off tests but do more substantial testing by writing code at the bottom of the file that contains the objects to be tested, like this:\n",
    "# Add incremental self-test code\n",
    "class Person:\n",
    "    def __init__(self, name, job=None, pay=0):\n",
    "        self.name = name \n",
    "        self.job = job \n",
    "        self.pay = pay\n",
    "        \n",
    "bob = Person('Bob Smith') # Test the class\n",
    "sue = Person('Sue Jones', job='dev', pay=100000)\n",
    "\n",
    "print(bob.name, bob.pay)\n",
    "print(sue.name, sue.pay)\n",
    "# When this file runs as a script, the test code at the bottom makes two instances of our class and prints two attributes of each (name and pay)."
   ]
  },
  {
   "cell_type": "code",
   "execution_count": null,
   "metadata": {},
   "outputs": [],
   "source": [
    "# Allow this file to be imported as well as run/tested\n",
    "\n",
    "class Person:\n",
    "    def __init__(self, name, job=None, pay=0):\n",
    "        self.name = name \n",
    "        self.job = job \n",
    "        self.pay = pay\n",
    "\n",
    "if __name__ == '__main__': # When run for testing only\n",
    "    # self-test code\n",
    "    bob = Person('Bob Smith')\n",
    "    sue = Person('Sue Jones', job='dev', pay=100000) \n",
    "    print(bob.name, bob.pay)\n",
    "    print(sue.name, sue.pay)\n",
    "# running the file as a top-level script tests it because its ``__name__`` is ``__main__``, but importing it as a library of classes later does not:\n",
    "run person.py\n",
    "import person\n",
    "### Addind Behavior Methods\n",
    "# Process embedded built-in types: strings, mutability\n",
    "class Person:\n",
    "    def __init__(self, name, job=None, pay=0):\n",
    "        self.name = name \n",
    "        self.job = job \n",
    "        self.pay = pay\n",
    "        \n",
    "if __name__ == '__main__':\n",
    "    bob = Person('Bob Smith')\n",
    "    sue = Person('Sue Jones', job='dev', pay=100000) \n",
    "    print(bob.name, bob.pay)\n",
    "    print(sue.name, sue.pay)\n",
    "    print(bob.name.split()[-1]) # Extract object's last name \n",
    "    sue.pay *= 1.10 # Give this object a raise \n",
    "    print('%.2f' % sue.pay)\n",
    "# Hardcoding operations like these outside of the class can lead to maintenance problems in the future.\n",
    "\n",
    "# What we really want to do here is employ a software design concept known as *encapsulation*—wrapping up operation logic behind interfaces, such that each operation is coded only once in our program. That way, if our needs change in the future, there is just one copy to update. Moreover, we’re free to change the single copy’s internals almost arbitrarily, without breaking the code that uses it.\n",
    "# Add methods to encapsulate operations for maintainability\n",
    "class Person:\n",
    "    def __init__(self, name, job=None, pay=0):\n",
    "        self.name = name \n",
    "        self.job = job \n",
    "        self.pay = pay\n",
    "    def lastName(self):\n",
    "        return self.name.split()[-1]\n",
    "    def giveRaise(self, percent):\n",
    "        self.pay = int(self.pay * (1 + percent))\n",
    "\n",
    "if __name__ == '__main__':\n",
    "    bob = Person('Bob Smith')\n",
    "    sue = Person('Sue Jones', job='dev', pay=100000) \n",
    "    print(bob.name, bob.pay)\n",
    "    print(sue.name, sue.pay)\n",
    "    print(bob.lastName(), sue.lastName()) sue.giveRaise(.10)\n",
    "    print(sue.pay)"
   ]
  }
 ],
 "metadata": {
  "kernelspec": {
   "display_name": "Python 3",
   "language": "python",
   "name": "python3"
  },
  "language_info": {
   "codemirror_mode": {
    "name": "ipython",
    "version": 3
   },
   "file_extension": ".py",
   "mimetype": "text/x-python",
   "name": "python",
   "nbconvert_exporter": "python",
   "pygments_lexer": "ipython3",
   "version": "3.7.4"
  }
 },
 "nbformat": 4,
 "nbformat_minor": 2
}
