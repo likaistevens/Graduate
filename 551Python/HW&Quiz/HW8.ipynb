{
 "cells": [
  {
   "cell_type": "code",
   "execution_count": null,
   "metadata": {},
   "outputs": [],
   "source": [
    "\n",
    "import numpy as np\n",
    "\n",
    "#### arr: \t\tthe input array\n",
    "#### new_arr:\tthe new generated array as the output\n",
    "#### calculate the product of each row and append to the array, use row_product to save the product value and add to the new array\n",
    "def add_row_product_to_array(arr):\n",
    "\trow_product = arr.prod(1)\t\t\t\t# write your code here\n",
    "\tnew_arr =  np.hstack((arr,row_product.reshape(-1,1)))\t\t\t\t# write your code here\n",
    "\treturn new_arr\n"
   ]
  },
  {
   "cell_type": "code",
   "execution_count": 29,
   "metadata": {},
   "outputs": [
    {
     "data": {
      "text/plain": [
       "array([[ 0,  1,  0],\n",
       "       [ 2,  3,  6],\n",
       "       [ 4,  5, 20],\n",
       "       [ 6,  7, 42]])"
      ]
     },
     "execution_count": 29,
     "metadata": {},
     "output_type": "execute_result"
    }
   ],
   "source": [
    "import numpy as np\n",
    "arr = np.array([[0, 1],[2, 3],[4, 5],[6, 7]])\n",
    "row_product = arr.prod(1)\n",
    "np.hstack((arr,row_product.reshape(-1,1)))\n"
   ]
  },
  {
   "cell_type": "code",
   "execution_count": null,
   "metadata": {},
   "outputs": [],
   "source": [
    "#### arr: \t\tthe input array\n",
    "#### new_arr:\tthe new generated array as the output\n",
    "#### delete the top row and ending column from the array\n",
    "def remove_topRow_endCol_from_array(arr):\n",
    "\tnew_arr = arr[1:,:-1]\t\t\t\t# write your code here\n",
    "\treturn new_arr"
   ]
  },
  {
   "cell_type": "code",
   "execution_count": 7,
   "metadata": {},
   "outputs": [
    {
     "data": {
      "text/plain": [
       "array([[2],\n",
       "       [4],\n",
       "       [6]])"
      ]
     },
     "execution_count": 7,
     "metadata": {},
     "output_type": "execute_result"
    }
   ],
   "source": [
    "import numpy as np\n",
    "arr = np.array([[0, 1],[2, 3],[4, 5],[6, 7]])\n",
    "new_arr = arr[1:,:-1]\n",
    "new_arr"
   ]
  },
  {
   "cell_type": "code",
   "execution_count": null,
   "metadata": {},
   "outputs": [],
   "source": [
    "#### arr: \t\tthe input array\n",
    "#### new_arr:\tthe new generated array as the output\n",
    "#### stack the column summation below the bottom of the array\n",
    "def append_sum_of_array(arr):\n",
    "\tnew_arr =  np.vstack((arr,arr.sum(0)))\t\t\t\t\t# write your code here\n",
    "\treturn new_arr "
   ]
  },
  {
   "cell_type": "code",
   "execution_count": 11,
   "metadata": {},
   "outputs": [
    {
     "data": {
      "text/plain": [
       "array([[ 0,  1],\n",
       "       [ 2,  3],\n",
       "       [ 4,  5],\n",
       "       [ 6,  7],\n",
       "       [12, 16]])"
      ]
     },
     "execution_count": 11,
     "metadata": {},
     "output_type": "execute_result"
    }
   ],
   "source": [
    "import numpy as np\n",
    "arr = np.array([[0, 1],[2, 3],[4, 5],[6, 7]])\n",
    "new_arr = np.vstack((arr,arr.sum(0)))\n",
    "new_arr"
   ]
  },
  {
   "cell_type": "code",
   "execution_count": null,
   "metadata": {},
   "outputs": [],
   "source": [
    "#### arr: \t\tthe input array\n",
    "#### nRow: \t\tthe # of row in the reformed array\n",
    "#### nCol: \t\tthe # of column in the reformed array\n",
    "#### new_arr:\tthe new reformed array as the output\n",
    "#### reform the array to a new array with size(nRow,nCol)\n",
    "def reform_array_dimension_col_wise(arr, nRow, nCol):\n",
    "\tnew_arr =  arr.reshape(nRow,nCol)\t\t\t\t\t# write your code here\n",
    "\treturn new_arr"
   ]
  },
  {
   "cell_type": "code",
   "execution_count": 15,
   "metadata": {},
   "outputs": [
    {
     "data": {
      "text/plain": [
       "array([[0, 1, 3, 2, 3, 4],\n",
       "       [4, 5, 6, 6, 7, 8]])"
      ]
     },
     "execution_count": 15,
     "metadata": {},
     "output_type": "execute_result"
    }
   ],
   "source": [
    "import numpy as np\n",
    "nRow = 2\n",
    "nCol= 6\n",
    "arr = np.array([[0, 1,3],[2, 3,4],[4, 5,6],[6, 7,8]])\n",
    "new_arr = arr.reshape(nRow,nCol)\n",
    "new_arr"
   ]
  },
  {
   "cell_type": "code",
   "execution_count": null,
   "metadata": {},
   "outputs": [],
   "source": []
  }
 ],
 "metadata": {
  "kernelspec": {
   "display_name": "Python 3",
   "language": "python",
   "name": "python3"
  },
  "language_info": {
   "codemirror_mode": {
    "name": "ipython",
    "version": 3
   },
   "file_extension": ".py",
   "mimetype": "text/x-python",
   "name": "python",
   "nbconvert_exporter": "python",
   "pygments_lexer": "ipython3",
   "version": "3.7.4"
  }
 },
 "nbformat": 4,
 "nbformat_minor": 2
}
