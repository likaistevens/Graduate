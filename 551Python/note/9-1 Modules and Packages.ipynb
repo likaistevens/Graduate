{
 "cells": [
  {
   "cell_type": "markdown",
   "metadata": {},
   "source": [
    "### Module \n",
    "- Modules provide an easy way to organize components into a system by serving as self-contained packages of variables known as namespaces. \n",
    "- All the names defined at the top level of a module file become attributes of the imported module object."
   ]
  },
  {
   "cell_type": "code",
   "execution_count": null,
   "metadata": {},
   "outputs": [],
   "source": [
    "import\n",
    "    #Lets a client (importer) fetch a module as a whole\n",
    "from\n",
    "    #Allows clients to fetch particular names from a module\n"
   ]
  },
  {
   "cell_type": "markdown",
   "metadata": {},
   "source": [
    "Let us make an example: \n",
    "\n",
    "\n",
    "![title](img/module.png)"
   ]
  },
  {
   "cell_type": "markdown",
   "metadata": {},
   "source": [
    "- The file a.py is chosen to be the top-level file; it will be a simple text file of statements, which is executed from top to bottom when launched. \n",
    "- The files b.py and c.py are modules; they are simple text files of statements as well, but they are not usually launched directly. Instead, as explained previously, modules are normally imported by other files that wish to use the tools the modules define."
   ]
  },
  {
   "cell_type": "markdown",
   "metadata": {},
   "source": [
    "- For instance, suppose the file b.py in Figure above defines a function called spam, for external use. \n",
    "- As we learned when studying functions, b.py will contain a Python def statement to generate the function, which you can later run by passing zero or more values in parentheses after the function’s name:\n"
   ]
  },
  {
   "cell_type": "code",
   "execution_count": null,
   "metadata": {},
   "outputs": [],
   "source": [
    "def spam(text):                # File b.py \n",
    "    print(text, 'spam')"
   ]
  },
  {
   "cell_type": "markdown",
   "metadata": {},
   "source": [
    "- Now, suppose a.py wants to use spam. To this end, it might contain Python statements such as the following:"
   ]
  },
  {
   "cell_type": "code",
   "execution_count": null,
   "metadata": {},
   "outputs": [],
   "source": [
    "import b                 # File a.py \n",
    "b.spam('gumby')          # Prints \"gumby spam\""
   ]
  },
  {
   "cell_type": "markdown",
   "metadata": {},
   "source": [
    "The first of these, a Python import statement, gives the file a.py access to everything defined by top-level code in the file b.py. "
   ]
  },
  {
   "cell_type": "markdown",
   "metadata": {},
   "source": [
    "- The code \"import b\" roughly means:\n",
    "    - Load the file b.py (unless it’s already loaded), and give me access to all its attributes through the name b."
   ]
  },
  {
   "cell_type": "markdown",
   "metadata": {},
   "source": [
    "#### The \"import\" statement:\n",
    "- the name \"b\" serves two different purposes—it identifies an external file \"b.py\" to be loaded, and it becomes a variable in the script, which references the module object after the file is loaded:"
   ]
  },
  {
   "cell_type": "code",
   "execution_count": null,
   "metadata": {},
   "outputs": [],
   "source": [
    ">>> import b                    # Get module as a whole (one or more) \n",
    ">>> b.spam('Hello world!')      # Qualify to get names\n",
    "Hello world! spam\n"
   ]
  },
  {
   "cell_type": "markdown",
   "metadata": {},
   "source": [
    "#### The from Statement\n",
    "- By contrast, because \"from\" copies specific names from one file over to another scope, it allows us to use the copied names directly in the script without going through the module (e.g., spam):\n"
   ]
  },
  {
   "cell_type": "code",
   "execution_count": null,
   "metadata": {},
   "outputs": [],
   "source": [
    ">>> from b import spam       # Copy out a variable (one or more) \n",
    ">>> spam('Hello world!')     # No need to qualify name\n",
    "Hello world! spam\n",
    "\n"
   ]
  },
  {
   "cell_type": "markdown",
   "metadata": {},
   "source": [
    "- This form of from allows us to list one or more names to be copied out, separated by commas."
   ]
  },
  {
   "cell_type": "markdown",
   "metadata": {},
   "source": [
    "#### The from * Statement\n",
    "Finally, the next example uses a special form of from: \n",
    "- when we use a * instead of specific names, we get copies of all names assigned at the top level of the referenced module. \n",
    "- Here again, we can then use the copied name printer in our script without going through the module name:\n"
   ]
  },
  {
   "cell_type": "code",
   "execution_count": null,
   "metadata": {},
   "outputs": [],
   "source": [
    ">>> from module1 import *       # Copy out _all_ variables \n",
    ">>> spam('Hello world!')\n",
    "Hello world! spam\n",
    "\n"
   ]
  },
  {
   "cell_type": "markdown",
   "metadata": {},
   "source": [
    "#### Imports Happen Only Once"
   ]
  },
  {
   "cell_type": "markdown",
   "metadata": {},
   "source": [
    "- Modules are loaded and run on the first import or from, and only the first. \n",
    "- This is on purpose—because importing is an expensive operation, by default Python does it just once per file, per process. \n",
    "- Later import operations simply fetch the already loaded module object."
   ]
  },
  {
   "cell_type": "code",
   "execution_count": null,
   "metadata": {},
   "outputs": [],
   "source": [
    "## Let us consider the file simple.py, for example:\n",
    "print('hello')\n",
    "spam = 1           # Initialize variable\n"
   ]
  },
  {
   "cell_type": "markdown",
   "metadata": {},
   "source": [
    "In this example, the print and = statements run the first time the module is imported, and the variable spam is initialized at import time:\n"
   ]
  },
  {
   "cell_type": "code",
   "execution_count": null,
   "metadata": {},
   "outputs": [],
   "source": [
    "% python\n",
    ">>> import simple # First import: loads and RUNS file's code hello\n",
    ">>> simple.spam # Assignment makes an attribute\n",
    "1"
   ]
  },
  {
   "cell_type": "markdown",
   "metadata": {},
   "source": [
    "- Second and later imports don’t rerun the module’s code; they just fetch the already created module object from Python’s internal modules table. Thus, the variable spam is not reinitialized:"
   ]
  },
  {
   "cell_type": "code",
   "execution_count": null,
   "metadata": {},
   "outputs": [],
   "source": [
    ">>> simple.spam = 2     # Change attribute in module\n",
    ">>> import simple       # Just fetches already loaded module\n",
    ">>> simple.spam         # Code wasn't rerun: attribute unchanged\n",
    "2\n",
    "\n",
    "\n"
   ]
  },
  {
   "cell_type": "code",
   "execution_count": null,
   "metadata": {},
   "outputs": [],
   "source": []
  },
  {
   "cell_type": "markdown",
   "metadata": {},
   "source": [
    "#### Changing mutables in modules"
   ]
  },
  {
   "cell_type": "markdown",
   "metadata": {},
   "source": [
    "- names copied with a \"from\" become references to shared objects; as with function arguments, \n",
    "- reassigning a copied name has no effect on the module from which it was copied, \n",
    "- but changing a shared mutable object through a copied name can also change it in the module from which it was imported. "
   ]
  },
  {
   "cell_type": "code",
   "execution_count": null,
   "metadata": {},
   "outputs": [],
   "source": [
    "## small.py:\n",
    "x = 1\n",
    "y = [2, 3]\n"
   ]
  },
  {
   "cell_type": "code",
   "execution_count": null,
   "metadata": {},
   "outputs": [],
   "source": []
  },
  {
   "cell_type": "code",
   "execution_count": null,
   "metadata": {},
   "outputs": [],
   "source": [
    "% python\n",
    ">>> from small import x, y   # Copy two names out\n",
    ">>> x = 42                   # Changes local x only\n",
    ">>> y[0] = 42                # Changes shared mutable in place\n"
   ]
  },
  {
   "cell_type": "code",
   "execution_count": null,
   "metadata": {},
   "outputs": [],
   "source": [
    ">>> import small             # Get module name (from doesn't) \n",
    ">>> small.x                  # Small's x is not my x\n",
    "1\n"
   ]
  },
  {
   "cell_type": "code",
   "execution_count": null,
   "metadata": {},
   "outputs": [],
   "source": [
    ">>> small.y                  # But we share a changed mutable\n",
    "[42, 3]"
   ]
  },
  {
   "cell_type": "markdown",
   "metadata": {},
   "source": [
    "#### Cross-file name changes\n",
    "Recall from the preceding example that the assignment to x in the interactive session changed the name x in that scope only, not the x in the file—there is no link from a name copied with from back to the file it came from. To really change a global name in another file, you must use import:"
   ]
  },
  {
   "cell_type": "code",
   "execution_count": null,
   "metadata": {},
   "outputs": [],
   "source": [
    "% python\n",
    ">>> from small import x, y    # Copy two names out \n",
    ">>> x = 42                    # Changes my x only\n",
    ">>> import small              # Get module name\n",
    ">>> small.x = 42              # Changes x in other module\n",
    "\n",
    "\n"
   ]
  },
  {
   "cell_type": "markdown",
   "metadata": {},
   "source": [
    "#### import and from Equivalence"
   ]
  },
  {
   "cell_type": "markdown",
   "metadata": {},
   "source": [
    "Notice in the prior example that we have to execute an import statement after the from to access the small module name at all. from only copies names from one module to another; it does not assign the module name itself. At least conceptually, a from statement like this one:\n"
   ]
  },
  {
   "cell_type": "code",
   "execution_count": null,
   "metadata": {},
   "outputs": [],
   "source": [
    "from module import name1, name2   # Copy these two names out (only)"
   ]
  },
  {
   "cell_type": "markdown",
   "metadata": {},
   "source": [
    "- is equivalent to this statement sequence:"
   ]
  },
  {
   "cell_type": "code",
   "execution_count": null,
   "metadata": {},
   "outputs": [],
   "source": [
    "import module           # Fetch the module object\n",
    "name1 = module.name1    # Copy names out by assignment\n",
    "name2 = module.name2 \n",
    "del module              # Get rid of the module name\n",
    "\n",
    "\n"
   ]
  },
  {
   "cell_type": "markdown",
   "metadata": {},
   "source": [
    "#### When import is required?"
   ]
  },
  {
   "cell_type": "markdown",
   "metadata": {},
   "source": [
    "The only time you really must use import instead of from is when you must use the same name defined in two different modules. For example, if two files define the same name differently:"
   ]
  },
  {
   "cell_type": "code",
   "execution_count": null,
   "metadata": {},
   "outputs": [],
   "source": [
    "# M.py\n",
    "def func():\n",
    "    ...do something...\n"
   ]
  },
  {
   "cell_type": "code",
   "execution_count": null,
   "metadata": {},
   "outputs": [],
   "source": [
    "# N.py\n",
    "def func():\n",
    "    ...do something else...\n"
   ]
  },
  {
   "cell_type": "markdown",
   "metadata": {},
   "source": [
    "- and you must use both versions of the name in your program, the from statement will fail—you can have only one assignment to the name in your scope:\n"
   ]
  },
  {
   "cell_type": "code",
   "execution_count": null,
   "metadata": {},
   "outputs": [],
   "source": [
    "# O.py\n",
    "from M import func\n",
    "from N import func # This overwrites the one we fetched from M \n",
    "func()             # Calls N.func only!\n"
   ]
  },
  {
   "cell_type": "markdown",
   "metadata": {},
   "source": [
    "- An import will work here, though, because including the name of the enclosing module makes the two names unique:"
   ]
  },
  {
   "cell_type": "code",
   "execution_count": null,
   "metadata": {},
   "outputs": [],
   "source": [
    "# O.py\n",
    "import M, N           # Get the whole modules, not their names\n",
    "M.func()              # We can call both names now\n",
    "N.func()              # The module names make them unique\n",
    " \n"
   ]
  },
  {
   "cell_type": "markdown",
   "metadata": {},
   "source": [
    "- This case is unusual enough that you’re unlikely to encounter it very often in practice. If you do, though, import allows you to avoid the name collision. Another way out of this dilemma is using the as extension, "
   ]
  },
  {
   "cell_type": "code",
   "execution_count": null,
   "metadata": {},
   "outputs": [],
   "source": [
    "# O.py\n",
    "from M import func as mfunc    # Rename uniquely with \"as\" \n",
    "from N import func as nfunc\n",
    "mfunc(); nfunc()               # Calls one or the other\n"
   ]
  },
  {
   "cell_type": "code",
   "execution_count": null,
   "metadata": {},
   "outputs": [],
   "source": []
  },
  {
   "cell_type": "markdown",
   "metadata": {},
   "source": [
    "### Modules vs. Packages"
   ]
  },
  {
   "cell_type": "markdown",
   "metadata": {},
   "source": [
    "- Differences Between Python Modules and Packages\n",
    "\n",
    "- - A module is a file containing Python code. A package, however, is like a directory that holds sub-packages and modules.\n",
    "- - A package must hold the file __init__.py. This does not apply to modules.\n",
    "- - To import everything from a module, we use the wildcard *. But this does not work with packages."
   ]
  },
  {
   "cell_type": "code",
   "execution_count": null,
   "metadata": {},
   "outputs": [],
   "source": []
  },
  {
   "cell_type": "code",
   "execution_count": null,
   "metadata": {},
   "outputs": [],
   "source": []
  }
 ],
 "metadata": {
  "kernelspec": {
   "display_name": "Python 3",
   "language": "python",
   "name": "python3"
  },
  "language_info": {
   "codemirror_mode": {
    "name": "ipython",
    "version": 3
   },
   "file_extension": ".py",
   "mimetype": "text/x-python",
   "name": "python",
   "nbconvert_exporter": "python",
   "pygments_lexer": "ipython3",
   "version": "3.7.4"
  }
 },
 "nbformat": 4,
 "nbformat_minor": 2
}
